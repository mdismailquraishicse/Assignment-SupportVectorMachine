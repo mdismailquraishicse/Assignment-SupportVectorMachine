{
  "nbformat": 4,
  "nbformat_minor": 0,
  "metadata": {
    "kernelspec": {
      "display_name": "Python 3",
      "language": "python",
      "name": "python3"
    },
    "language_info": {
      "codemirror_mode": {
        "name": "ipython",
        "version": 3
      },
      "file_extension": ".py",
      "mimetype": "text/x-python",
      "name": "python",
      "nbconvert_exporter": "python",
      "pygments_lexer": "ipython3",
      "version": "3.7.1"
    },
    "colab": {
      "provenance": []
    }
  },
  "cells": [
    {
      "cell_type": "markdown",
      "metadata": {
        "id": "PYsTFWXYjCxF"
      },
      "source": [
        "# <u><b> Objective </b></u>\n",
        "## <b> You are given a data of US Airline tweets and their sentiment. The task is to do sentiment analysis about the problems of each major U.S. airline. Twitter data was scraped from February of 2015 and contributors were asked to first classify positive, negative, and neutral tweets, followed by categorizing negative reasons (such as \"late flight\" or \"rude service\"). </b>\n",
        "\n",
        "<br>\n",
        "<br>\n",
        "\n",
        "## <b>Things to do :</b>\n",
        "* ### Read the tweets.csv data, clean and tokenize the tweets using nltk library.\n",
        "* ### Count vectorize the tweets so that you end up with a sparse matrix (which will be your $X$). \n",
        "* ### You are supposed to build a SVM classifier (a binary classification in fact). Since the data contains three levels of sentiment(positive, negative and neutral), you should remove the sentences which are neutral. Once you do that you will have two classes only (positive and negative). You can set the label of positive tweets to 1 and negative tweets to 0.\n",
        "* ### Once you have built the SVM classifier, evaluate this model across various metrics. Also plot the ROC curve and Precision-Recall curve. Report the areas under these two curves along with other metrics.\n",
        "* ### Perform GridSearch cross validation for various values of $C$ and $gamma$. These will be the hyperparameters which you would play around with.\n",
        "* ### Explain your observations and the underlying reasons for these.\n",
        "* ### Try checking if <code>tfidfvectorizer</code> helps you gain lift in model's performance.\n",
        "\n",
        "\n",
        "\n"
      ]
    },
    {
      "cell_type": "code",
      "metadata": {
        "id": "Ah_20SDKV7Ao"
      },
      "source": [
        "# importing libraries\n",
        "import numpy as np\n",
        "import pandas as pd\n",
        "import seaborn as sns"
      ],
      "execution_count": 1,
      "outputs": []
    },
    {
      "cell_type": "code",
      "source": [
        "from google.colab import drive\n",
        "drive.mount('/content/drive')"
      ],
      "metadata": {
        "colab": {
          "base_uri": "https://localhost:8080/"
        },
        "id": "CvjRqA3GRtS9",
        "outputId": "9b933c2e-d502-4507-e371-2ab0db967d4d"
      },
      "execution_count": 2,
      "outputs": [
        {
          "output_type": "stream",
          "name": "stdout",
          "text": [
            "Mounted at /content/drive\n"
          ]
        }
      ]
    },
    {
      "cell_type": "markdown",
      "source": [
        "## Read the tweets.csv data, clean and tokenize the tweets using nltk library."
      ],
      "metadata": {
        "id": "eucpUOeUqbtn"
      }
    },
    {
      "cell_type": "code",
      "source": [
        "# path = 'E:/Data Science/amlabetter/Module 4/Week 3/Day 3/Tweets.csv'\n",
        "path = '/content/drive/MyDrive/Almabetter/Cohort Nilgiri/Module 4/Week 3/Day 3/Tweets.csv'\n",
        "tweets = pd.read_csv(path)\n",
        "tweets.head()"
      ],
      "metadata": {
        "colab": {
          "base_uri": "https://localhost:8080/",
          "height": 496
        },
        "id": "eI6Wi0E9RkBa",
        "outputId": "8abe17d1-783e-4f4f-b16c-e1d448e36fcf"
      },
      "execution_count": 3,
      "outputs": [
        {
          "output_type": "execute_result",
          "data": {
            "text/plain": [
              "             tweet_id airline_sentiment  airline_sentiment_confidence  \\\n",
              "0  570306133677760513           neutral                        1.0000   \n",
              "1  570301130888122368          positive                        0.3486   \n",
              "2  570301083672813571           neutral                        0.6837   \n",
              "3  570301031407624196          negative                        1.0000   \n",
              "4  570300817074462722          negative                        1.0000   \n",
              "\n",
              "  negativereason  negativereason_confidence         airline  \\\n",
              "0            NaN                        NaN  Virgin America   \n",
              "1            NaN                     0.0000  Virgin America   \n",
              "2            NaN                        NaN  Virgin America   \n",
              "3     Bad Flight                     0.7033  Virgin America   \n",
              "4     Can't Tell                     1.0000  Virgin America   \n",
              "\n",
              "  airline_sentiment_gold        name negativereason_gold  retweet_count  \\\n",
              "0                    NaN     cairdin                 NaN              0   \n",
              "1                    NaN    jnardino                 NaN              0   \n",
              "2                    NaN  yvonnalynn                 NaN              0   \n",
              "3                    NaN    jnardino                 NaN              0   \n",
              "4                    NaN    jnardino                 NaN              0   \n",
              "\n",
              "                                                text tweet_coord  \\\n",
              "0                @VirginAmerica What @dhepburn said.         NaN   \n",
              "1  @VirginAmerica plus you've added commercials t...         NaN   \n",
              "2  @VirginAmerica I didn't today... Must mean I n...         NaN   \n",
              "3  @VirginAmerica it's really aggressive to blast...         NaN   \n",
              "4  @VirginAmerica and it's a really big bad thing...         NaN   \n",
              "\n",
              "               tweet_created tweet_location               user_timezone  \n",
              "0  2015-02-24 11:35:52 -0800            NaN  Eastern Time (US & Canada)  \n",
              "1  2015-02-24 11:15:59 -0800            NaN  Pacific Time (US & Canada)  \n",
              "2  2015-02-24 11:15:48 -0800      Lets Play  Central Time (US & Canada)  \n",
              "3  2015-02-24 11:15:36 -0800            NaN  Pacific Time (US & Canada)  \n",
              "4  2015-02-24 11:14:45 -0800            NaN  Pacific Time (US & Canada)  "
            ],
            "text/html": [
              "\n",
              "  <div id=\"df-dc1fab55-5759-4cc0-a65c-34b14a4df7b4\">\n",
              "    <div class=\"colab-df-container\">\n",
              "      <div>\n",
              "<style scoped>\n",
              "    .dataframe tbody tr th:only-of-type {\n",
              "        vertical-align: middle;\n",
              "    }\n",
              "\n",
              "    .dataframe tbody tr th {\n",
              "        vertical-align: top;\n",
              "    }\n",
              "\n",
              "    .dataframe thead th {\n",
              "        text-align: right;\n",
              "    }\n",
              "</style>\n",
              "<table border=\"1\" class=\"dataframe\">\n",
              "  <thead>\n",
              "    <tr style=\"text-align: right;\">\n",
              "      <th></th>\n",
              "      <th>tweet_id</th>\n",
              "      <th>airline_sentiment</th>\n",
              "      <th>airline_sentiment_confidence</th>\n",
              "      <th>negativereason</th>\n",
              "      <th>negativereason_confidence</th>\n",
              "      <th>airline</th>\n",
              "      <th>airline_sentiment_gold</th>\n",
              "      <th>name</th>\n",
              "      <th>negativereason_gold</th>\n",
              "      <th>retweet_count</th>\n",
              "      <th>text</th>\n",
              "      <th>tweet_coord</th>\n",
              "      <th>tweet_created</th>\n",
              "      <th>tweet_location</th>\n",
              "      <th>user_timezone</th>\n",
              "    </tr>\n",
              "  </thead>\n",
              "  <tbody>\n",
              "    <tr>\n",
              "      <th>0</th>\n",
              "      <td>570306133677760513</td>\n",
              "      <td>neutral</td>\n",
              "      <td>1.0000</td>\n",
              "      <td>NaN</td>\n",
              "      <td>NaN</td>\n",
              "      <td>Virgin America</td>\n",
              "      <td>NaN</td>\n",
              "      <td>cairdin</td>\n",
              "      <td>NaN</td>\n",
              "      <td>0</td>\n",
              "      <td>@VirginAmerica What @dhepburn said.</td>\n",
              "      <td>NaN</td>\n",
              "      <td>2015-02-24 11:35:52 -0800</td>\n",
              "      <td>NaN</td>\n",
              "      <td>Eastern Time (US &amp; Canada)</td>\n",
              "    </tr>\n",
              "    <tr>\n",
              "      <th>1</th>\n",
              "      <td>570301130888122368</td>\n",
              "      <td>positive</td>\n",
              "      <td>0.3486</td>\n",
              "      <td>NaN</td>\n",
              "      <td>0.0000</td>\n",
              "      <td>Virgin America</td>\n",
              "      <td>NaN</td>\n",
              "      <td>jnardino</td>\n",
              "      <td>NaN</td>\n",
              "      <td>0</td>\n",
              "      <td>@VirginAmerica plus you've added commercials t...</td>\n",
              "      <td>NaN</td>\n",
              "      <td>2015-02-24 11:15:59 -0800</td>\n",
              "      <td>NaN</td>\n",
              "      <td>Pacific Time (US &amp; Canada)</td>\n",
              "    </tr>\n",
              "    <tr>\n",
              "      <th>2</th>\n",
              "      <td>570301083672813571</td>\n",
              "      <td>neutral</td>\n",
              "      <td>0.6837</td>\n",
              "      <td>NaN</td>\n",
              "      <td>NaN</td>\n",
              "      <td>Virgin America</td>\n",
              "      <td>NaN</td>\n",
              "      <td>yvonnalynn</td>\n",
              "      <td>NaN</td>\n",
              "      <td>0</td>\n",
              "      <td>@VirginAmerica I didn't today... Must mean I n...</td>\n",
              "      <td>NaN</td>\n",
              "      <td>2015-02-24 11:15:48 -0800</td>\n",
              "      <td>Lets Play</td>\n",
              "      <td>Central Time (US &amp; Canada)</td>\n",
              "    </tr>\n",
              "    <tr>\n",
              "      <th>3</th>\n",
              "      <td>570301031407624196</td>\n",
              "      <td>negative</td>\n",
              "      <td>1.0000</td>\n",
              "      <td>Bad Flight</td>\n",
              "      <td>0.7033</td>\n",
              "      <td>Virgin America</td>\n",
              "      <td>NaN</td>\n",
              "      <td>jnardino</td>\n",
              "      <td>NaN</td>\n",
              "      <td>0</td>\n",
              "      <td>@VirginAmerica it's really aggressive to blast...</td>\n",
              "      <td>NaN</td>\n",
              "      <td>2015-02-24 11:15:36 -0800</td>\n",
              "      <td>NaN</td>\n",
              "      <td>Pacific Time (US &amp; Canada)</td>\n",
              "    </tr>\n",
              "    <tr>\n",
              "      <th>4</th>\n",
              "      <td>570300817074462722</td>\n",
              "      <td>negative</td>\n",
              "      <td>1.0000</td>\n",
              "      <td>Can't Tell</td>\n",
              "      <td>1.0000</td>\n",
              "      <td>Virgin America</td>\n",
              "      <td>NaN</td>\n",
              "      <td>jnardino</td>\n",
              "      <td>NaN</td>\n",
              "      <td>0</td>\n",
              "      <td>@VirginAmerica and it's a really big bad thing...</td>\n",
              "      <td>NaN</td>\n",
              "      <td>2015-02-24 11:14:45 -0800</td>\n",
              "      <td>NaN</td>\n",
              "      <td>Pacific Time (US &amp; Canada)</td>\n",
              "    </tr>\n",
              "  </tbody>\n",
              "</table>\n",
              "</div>\n",
              "      <button class=\"colab-df-convert\" onclick=\"convertToInteractive('df-dc1fab55-5759-4cc0-a65c-34b14a4df7b4')\"\n",
              "              title=\"Convert this dataframe to an interactive table.\"\n",
              "              style=\"display:none;\">\n",
              "        \n",
              "  <svg xmlns=\"http://www.w3.org/2000/svg\" height=\"24px\"viewBox=\"0 0 24 24\"\n",
              "       width=\"24px\">\n",
              "    <path d=\"M0 0h24v24H0V0z\" fill=\"none\"/>\n",
              "    <path d=\"M18.56 5.44l.94 2.06.94-2.06 2.06-.94-2.06-.94-.94-2.06-.94 2.06-2.06.94zm-11 1L8.5 8.5l.94-2.06 2.06-.94-2.06-.94L8.5 2.5l-.94 2.06-2.06.94zm10 10l.94 2.06.94-2.06 2.06-.94-2.06-.94-.94-2.06-.94 2.06-2.06.94z\"/><path d=\"M17.41 7.96l-1.37-1.37c-.4-.4-.92-.59-1.43-.59-.52 0-1.04.2-1.43.59L10.3 9.45l-7.72 7.72c-.78.78-.78 2.05 0 2.83L4 21.41c.39.39.9.59 1.41.59.51 0 1.02-.2 1.41-.59l7.78-7.78 2.81-2.81c.8-.78.8-2.07 0-2.86zM5.41 20L4 18.59l7.72-7.72 1.47 1.35L5.41 20z\"/>\n",
              "  </svg>\n",
              "      </button>\n",
              "      \n",
              "  <style>\n",
              "    .colab-df-container {\n",
              "      display:flex;\n",
              "      flex-wrap:wrap;\n",
              "      gap: 12px;\n",
              "    }\n",
              "\n",
              "    .colab-df-convert {\n",
              "      background-color: #E8F0FE;\n",
              "      border: none;\n",
              "      border-radius: 50%;\n",
              "      cursor: pointer;\n",
              "      display: none;\n",
              "      fill: #1967D2;\n",
              "      height: 32px;\n",
              "      padding: 0 0 0 0;\n",
              "      width: 32px;\n",
              "    }\n",
              "\n",
              "    .colab-df-convert:hover {\n",
              "      background-color: #E2EBFA;\n",
              "      box-shadow: 0px 1px 2px rgba(60, 64, 67, 0.3), 0px 1px 3px 1px rgba(60, 64, 67, 0.15);\n",
              "      fill: #174EA6;\n",
              "    }\n",
              "\n",
              "    [theme=dark] .colab-df-convert {\n",
              "      background-color: #3B4455;\n",
              "      fill: #D2E3FC;\n",
              "    }\n",
              "\n",
              "    [theme=dark] .colab-df-convert:hover {\n",
              "      background-color: #434B5C;\n",
              "      box-shadow: 0px 1px 3px 1px rgba(0, 0, 0, 0.15);\n",
              "      filter: drop-shadow(0px 1px 2px rgba(0, 0, 0, 0.3));\n",
              "      fill: #FFFFFF;\n",
              "    }\n",
              "  </style>\n",
              "\n",
              "      <script>\n",
              "        const buttonEl =\n",
              "          document.querySelector('#df-dc1fab55-5759-4cc0-a65c-34b14a4df7b4 button.colab-df-convert');\n",
              "        buttonEl.style.display =\n",
              "          google.colab.kernel.accessAllowed ? 'block' : 'none';\n",
              "\n",
              "        async function convertToInteractive(key) {\n",
              "          const element = document.querySelector('#df-dc1fab55-5759-4cc0-a65c-34b14a4df7b4');\n",
              "          const dataTable =\n",
              "            await google.colab.kernel.invokeFunction('convertToInteractive',\n",
              "                                                     [key], {});\n",
              "          if (!dataTable) return;\n",
              "\n",
              "          const docLinkHtml = 'Like what you see? Visit the ' +\n",
              "            '<a target=\"_blank\" href=https://colab.research.google.com/notebooks/data_table.ipynb>data table notebook</a>'\n",
              "            + ' to learn more about interactive tables.';\n",
              "          element.innerHTML = '';\n",
              "          dataTable['output_type'] = 'display_data';\n",
              "          await google.colab.output.renderOutput(dataTable, element);\n",
              "          const docLink = document.createElement('div');\n",
              "          docLink.innerHTML = docLinkHtml;\n",
              "          element.appendChild(docLink);\n",
              "        }\n",
              "      </script>\n",
              "    </div>\n",
              "  </div>\n",
              "  "
            ]
          },
          "metadata": {},
          "execution_count": 3
        }
      ]
    },
    {
      "cell_type": "code",
      "source": [
        "tweets.shape"
      ],
      "metadata": {
        "colab": {
          "base_uri": "https://localhost:8080/"
        },
        "id": "RheOCAIUSevm",
        "outputId": "ca1a20df-fe99-47d1-a231-12517685f3a3"
      },
      "execution_count": 4,
      "outputs": [
        {
          "output_type": "execute_result",
          "data": {
            "text/plain": [
              "(14640, 15)"
            ]
          },
          "metadata": {},
          "execution_count": 4
        }
      ]
    },
    {
      "cell_type": "code",
      "source": [
        "tweets.groupby('airline_sentiment')['airline_sentiment'].describe()"
      ],
      "metadata": {
        "colab": {
          "base_uri": "https://localhost:8080/",
          "height": 175
        },
        "id": "qk_M77UUSi6X",
        "outputId": "940331d1-37d0-4073-9391-35f236febdbe"
      },
      "execution_count": 5,
      "outputs": [
        {
          "output_type": "execute_result",
          "data": {
            "text/plain": [
              "                  count unique       top  freq\n",
              "airline_sentiment                             \n",
              "negative           9178      1  negative  9178\n",
              "neutral            3099      1   neutral  3099\n",
              "positive           2363      1  positive  2363"
            ],
            "text/html": [
              "\n",
              "  <div id=\"df-145d98c6-66fb-4ee4-9d9f-8b64e65ac2cb\">\n",
              "    <div class=\"colab-df-container\">\n",
              "      <div>\n",
              "<style scoped>\n",
              "    .dataframe tbody tr th:only-of-type {\n",
              "        vertical-align: middle;\n",
              "    }\n",
              "\n",
              "    .dataframe tbody tr th {\n",
              "        vertical-align: top;\n",
              "    }\n",
              "\n",
              "    .dataframe thead th {\n",
              "        text-align: right;\n",
              "    }\n",
              "</style>\n",
              "<table border=\"1\" class=\"dataframe\">\n",
              "  <thead>\n",
              "    <tr style=\"text-align: right;\">\n",
              "      <th></th>\n",
              "      <th>count</th>\n",
              "      <th>unique</th>\n",
              "      <th>top</th>\n",
              "      <th>freq</th>\n",
              "    </tr>\n",
              "    <tr>\n",
              "      <th>airline_sentiment</th>\n",
              "      <th></th>\n",
              "      <th></th>\n",
              "      <th></th>\n",
              "      <th></th>\n",
              "    </tr>\n",
              "  </thead>\n",
              "  <tbody>\n",
              "    <tr>\n",
              "      <th>negative</th>\n",
              "      <td>9178</td>\n",
              "      <td>1</td>\n",
              "      <td>negative</td>\n",
              "      <td>9178</td>\n",
              "    </tr>\n",
              "    <tr>\n",
              "      <th>neutral</th>\n",
              "      <td>3099</td>\n",
              "      <td>1</td>\n",
              "      <td>neutral</td>\n",
              "      <td>3099</td>\n",
              "    </tr>\n",
              "    <tr>\n",
              "      <th>positive</th>\n",
              "      <td>2363</td>\n",
              "      <td>1</td>\n",
              "      <td>positive</td>\n",
              "      <td>2363</td>\n",
              "    </tr>\n",
              "  </tbody>\n",
              "</table>\n",
              "</div>\n",
              "      <button class=\"colab-df-convert\" onclick=\"convertToInteractive('df-145d98c6-66fb-4ee4-9d9f-8b64e65ac2cb')\"\n",
              "              title=\"Convert this dataframe to an interactive table.\"\n",
              "              style=\"display:none;\">\n",
              "        \n",
              "  <svg xmlns=\"http://www.w3.org/2000/svg\" height=\"24px\"viewBox=\"0 0 24 24\"\n",
              "       width=\"24px\">\n",
              "    <path d=\"M0 0h24v24H0V0z\" fill=\"none\"/>\n",
              "    <path d=\"M18.56 5.44l.94 2.06.94-2.06 2.06-.94-2.06-.94-.94-2.06-.94 2.06-2.06.94zm-11 1L8.5 8.5l.94-2.06 2.06-.94-2.06-.94L8.5 2.5l-.94 2.06-2.06.94zm10 10l.94 2.06.94-2.06 2.06-.94-2.06-.94-.94-2.06-.94 2.06-2.06.94z\"/><path d=\"M17.41 7.96l-1.37-1.37c-.4-.4-.92-.59-1.43-.59-.52 0-1.04.2-1.43.59L10.3 9.45l-7.72 7.72c-.78.78-.78 2.05 0 2.83L4 21.41c.39.39.9.59 1.41.59.51 0 1.02-.2 1.41-.59l7.78-7.78 2.81-2.81c.8-.78.8-2.07 0-2.86zM5.41 20L4 18.59l7.72-7.72 1.47 1.35L5.41 20z\"/>\n",
              "  </svg>\n",
              "      </button>\n",
              "      \n",
              "  <style>\n",
              "    .colab-df-container {\n",
              "      display:flex;\n",
              "      flex-wrap:wrap;\n",
              "      gap: 12px;\n",
              "    }\n",
              "\n",
              "    .colab-df-convert {\n",
              "      background-color: #E8F0FE;\n",
              "      border: none;\n",
              "      border-radius: 50%;\n",
              "      cursor: pointer;\n",
              "      display: none;\n",
              "      fill: #1967D2;\n",
              "      height: 32px;\n",
              "      padding: 0 0 0 0;\n",
              "      width: 32px;\n",
              "    }\n",
              "\n",
              "    .colab-df-convert:hover {\n",
              "      background-color: #E2EBFA;\n",
              "      box-shadow: 0px 1px 2px rgba(60, 64, 67, 0.3), 0px 1px 3px 1px rgba(60, 64, 67, 0.15);\n",
              "      fill: #174EA6;\n",
              "    }\n",
              "\n",
              "    [theme=dark] .colab-df-convert {\n",
              "      background-color: #3B4455;\n",
              "      fill: #D2E3FC;\n",
              "    }\n",
              "\n",
              "    [theme=dark] .colab-df-convert:hover {\n",
              "      background-color: #434B5C;\n",
              "      box-shadow: 0px 1px 3px 1px rgba(0, 0, 0, 0.15);\n",
              "      filter: drop-shadow(0px 1px 2px rgba(0, 0, 0, 0.3));\n",
              "      fill: #FFFFFF;\n",
              "    }\n",
              "  </style>\n",
              "\n",
              "      <script>\n",
              "        const buttonEl =\n",
              "          document.querySelector('#df-145d98c6-66fb-4ee4-9d9f-8b64e65ac2cb button.colab-df-convert');\n",
              "        buttonEl.style.display =\n",
              "          google.colab.kernel.accessAllowed ? 'block' : 'none';\n",
              "\n",
              "        async function convertToInteractive(key) {\n",
              "          const element = document.querySelector('#df-145d98c6-66fb-4ee4-9d9f-8b64e65ac2cb');\n",
              "          const dataTable =\n",
              "            await google.colab.kernel.invokeFunction('convertToInteractive',\n",
              "                                                     [key], {});\n",
              "          if (!dataTable) return;\n",
              "\n",
              "          const docLinkHtml = 'Like what you see? Visit the ' +\n",
              "            '<a target=\"_blank\" href=https://colab.research.google.com/notebooks/data_table.ipynb>data table notebook</a>'\n",
              "            + ' to learn more about interactive tables.';\n",
              "          element.innerHTML = '';\n",
              "          dataTable['output_type'] = 'display_data';\n",
              "          await google.colab.output.renderOutput(dataTable, element);\n",
              "          const docLink = document.createElement('div');\n",
              "          docLink.innerHTML = docLinkHtml;\n",
              "          element.appendChild(docLink);\n",
              "        }\n",
              "      </script>\n",
              "    </div>\n",
              "  </div>\n",
              "  "
            ]
          },
          "metadata": {},
          "execution_count": 5
        }
      ]
    },
    {
      "cell_type": "code",
      "source": [
        "sns.countplot(x = tweets['airline_sentiment'])"
      ],
      "metadata": {
        "colab": {
          "base_uri": "https://localhost:8080/",
          "height": 298
        },
        "id": "SC3OIn1-Slub",
        "outputId": "0e3d5116-f2fd-4c8b-d249-080a849d602a"
      },
      "execution_count": 6,
      "outputs": [
        {
          "output_type": "execute_result",
          "data": {
            "text/plain": [
              "<matplotlib.axes._subplots.AxesSubplot at 0x7f69c0d27e50>"
            ]
          },
          "metadata": {},
          "execution_count": 6
        },
        {
          "output_type": "display_data",
          "data": {
            "text/plain": [
              "<Figure size 432x288 with 1 Axes>"
            ],
            "image/png": "[encoded data removed]"
          },
          "metadata": {
            "needs_background": "light"
          }
        }
      ]
    },
    {
      "cell_type": "code",
      "source": [
        "tweets.describe( include = 'all')"
      ],
      "metadata": {
        "colab": {
          "base_uri": "https://localhost:8080/",
          "height": 475
        },
        "id": "1m6Z-izWSojt",
        "outputId": "b6880c99-dda9-48fe-9f6d-e280debcdfae"
      },
      "execution_count": 7,
      "outputs": [
        {
          "output_type": "execute_result",
          "data": {
            "text/plain": [
              "            tweet_id airline_sentiment  airline_sentiment_confidence  \\\n",
              "count   1.464000e+04             14640                  14640.000000   \n",
              "unique           NaN                 3                           NaN   \n",
              "top              NaN          negative                           NaN   \n",
              "freq             NaN              9178                           NaN   \n",
              "mean    5.692184e+17               NaN                      0.900169   \n",
              "std     7.791112e+14               NaN                      0.162830   \n",
              "min     5.675883e+17               NaN                      0.335000   \n",
              "25%     5.685592e+17               NaN                      0.692300   \n",
              "50%     5.694779e+17               NaN                      1.000000   \n",
              "75%     5.698905e+17               NaN                      1.000000   \n",
              "max     5.703106e+17               NaN                      1.000000   \n",
              "\n",
              "                negativereason  negativereason_confidence airline  \\\n",
              "count                     9178               10522.000000   14640   \n",
              "unique                      10                        NaN       6   \n",
              "top     Customer Service Issue                        NaN  United   \n",
              "freq                      2910                        NaN    3822   \n",
              "mean                       NaN                   0.638298     NaN   \n",
              "std                        NaN                   0.330440     NaN   \n",
              "min                        NaN                   0.000000     NaN   \n",
              "25%                        NaN                   0.360600     NaN   \n",
              "50%                        NaN                   0.670600     NaN   \n",
              "75%                        NaN                   1.000000     NaN   \n",
              "max                        NaN                   1.000000     NaN   \n",
              "\n",
              "       airline_sentiment_gold         name     negativereason_gold  \\\n",
              "count                      40        14640                      32   \n",
              "unique                      3         7701                      13   \n",
              "top                  negative  JetBlueNews  Customer Service Issue   \n",
              "freq                       32           63                      12   \n",
              "mean                      NaN          NaN                     NaN   \n",
              "std                       NaN          NaN                     NaN   \n",
              "min                       NaN          NaN                     NaN   \n",
              "25%                       NaN          NaN                     NaN   \n",
              "50%                       NaN          NaN                     NaN   \n",
              "75%                       NaN          NaN                     NaN   \n",
              "max                       NaN          NaN                     NaN   \n",
              "\n",
              "        retweet_count            text tweet_coord              tweet_created  \\\n",
              "count    14640.000000           14640        1019                      14640   \n",
              "unique            NaN           14427         832                      14247   \n",
              "top               NaN  @united thanks  [0.0, 0.0]  2015-02-24 09:54:34 -0800   \n",
              "freq              NaN               6         164                          5   \n",
              "mean         0.082650             NaN         NaN                        NaN   \n",
              "std          0.745778             NaN         NaN                        NaN   \n",
              "min          0.000000             NaN         NaN                        NaN   \n",
              "25%          0.000000             NaN         NaN                        NaN   \n",
              "50%          0.000000             NaN         NaN                        NaN   \n",
              "75%          0.000000             NaN         NaN                        NaN   \n",
              "max         44.000000             NaN         NaN                        NaN   \n",
              "\n",
              "       tweet_location               user_timezone  \n",
              "count            9907                        9820  \n",
              "unique           3081                          85  \n",
              "top        Boston, MA  Eastern Time (US & Canada)  \n",
              "freq              157                        3744  \n",
              "mean              NaN                         NaN  \n",
              "std               NaN                         NaN  \n",
              "min               NaN                         NaN  \n",
              "25%               NaN                         NaN  \n",
              "50%               NaN                         NaN  \n",
              "75%               NaN                         NaN  \n",
              "max               NaN                         NaN  "
            ],
            "text/html": [
              "\n",
              "  <div id=\"df-f5b06e72-1fd5-4014-b32f-39634b500b45\">\n",
              "    <div class=\"colab-df-container\">\n",
              "      <div>\n",
              "<style scoped>\n",
              "    .dataframe tbody tr th:only-of-type {\n",
              "        vertical-align: middle;\n",
              "    }\n",
              "\n",
              "    .dataframe tbody tr th {\n",
              "        vertical-align: top;\n",
              "    }\n",
              "\n",
              "    .dataframe thead th {\n",
              "        text-align: right;\n",
              "    }\n",
              "</style>\n",
              "<table border=\"1\" class=\"dataframe\">\n",
              "  <thead>\n",
              "    <tr style=\"text-align: right;\">\n",
              "      <th></th>\n",
              "      <th>tweet_id</th>\n",
              "      <th>airline_sentiment</th>\n",
              "      <th>airline_sentiment_confidence</th>\n",
              "      <th>negativereason</th>\n",
              "      <th>negativereason_confidence</th>\n",
              "      <th>airline</th>\n",
              "      <th>airline_sentiment_gold</th>\n",
              "      <th>name</th>\n",
              "      <th>negativereason_gold</th>\n",
              "      <th>retweet_count</th>\n",
              "      <th>text</th>\n",
              "      <th>tweet_coord</th>\n",
              "      <th>tweet_created</th>\n",
              "      <th>tweet_location</th>\n",
              "      <th>user_timezone</th>\n",
              "    </tr>\n",
              "  </thead>\n",
              "  <tbody>\n",
              "    <tr>\n",
              "      <th>count</th>\n",
              "      <td>1.464000e+04</td>\n",
              "      <td>14640</td>\n",
              "      <td>14640.000000</td>\n",
              "      <td>9178</td>\n",
              "      <td>10522.000000</td>\n",
              "      <td>14640</td>\n",
              "      <td>40</td>\n",
              "      <td>14640</td>\n",
              "      <td>32</td>\n",
              "      <td>14640.000000</td>\n",
              "      <td>14640</td>\n",
              "      <td>1019</td>\n",
              "      <td>14640</td>\n",
              "      <td>9907</td>\n",
              "      <td>9820</td>\n",
              "    </tr>\n",
              "    <tr>\n",
              "      <th>unique</th>\n",
              "      <td>NaN</td>\n",
              "      <td>3</td>\n",
              "      <td>NaN</td>\n",
              "      <td>10</td>\n",
              "      <td>NaN</td>\n",
              "      <td>6</td>\n",
              "      <td>3</td>\n",
              "      <td>7701</td>\n",
              "      <td>13</td>\n",
              "      <td>NaN</td>\n",
              "      <td>14427</td>\n",
              "      <td>832</td>\n",
              "      <td>14247</td>\n",
              "      <td>3081</td>\n",
              "      <td>85</td>\n",
              "    </tr>\n",
              "    <tr>\n",
              "      <th>top</th>\n",
              "      <td>NaN</td>\n",
              "      <td>negative</td>\n",
              "      <td>NaN</td>\n",
              "      <td>Customer Service Issue</td>\n",
              "      <td>NaN</td>\n",
              "      <td>United</td>\n",
              "      <td>negative</td>\n",
              "      <td>JetBlueNews</td>\n",
              "      <td>Customer Service Issue</td>\n",
              "      <td>NaN</td>\n",
              "      <td>@united thanks</td>\n",
              "      <td>[0.0, 0.0]</td>\n",
              "      <td>2015-02-24 09:54:34 -0800</td>\n",
              "      <td>Boston, MA</td>\n",
              "      <td>Eastern Time (US &amp; Canada)</td>\n",
              "    </tr>\n",
              "    <tr>\n",
              "      <th>freq</th>\n",
              "      <td>NaN</td>\n",
              "      <td>9178</td>\n",
              "      <td>NaN</td>\n",
              "      <td>2910</td>\n",
              "      <td>NaN</td>\n",
              "      <td>3822</td>\n",
              "      <td>32</td>\n",
              "      <td>63</td>\n",
              "      <td>12</td>\n",
              "      <td>NaN</td>\n",
              "      <td>6</td>\n",
              "      <td>164</td>\n",
              "      <td>5</td>\n",
              "      <td>157</td>\n",
              "      <td>3744</td>\n",
              "    </tr>\n",
              "    <tr>\n",
              "      <th>mean</th>\n",
              "      <td>5.692184e+17</td>\n",
              "      <td>NaN</td>\n",
              "      <td>0.900169</td>\n",
              "      <td>NaN</td>\n",
              "      <td>0.638298</td>\n",
              "      <td>NaN</td>\n",
              "      <td>NaN</td>\n",
              "      <td>NaN</td>\n",
              "      <td>NaN</td>\n",
              "      <td>0.082650</td>\n",
              "      <td>NaN</td>\n",
              "      <td>NaN</td>\n",
              "      <td>NaN</td>\n",
              "      <td>NaN</td>\n",
              "      <td>NaN</td>\n",
              "    </tr>\n",
              "    <tr>\n",
              "      <th>std</th>\n",
              "      <td>7.791112e+14</td>\n",
              "      <td>NaN</td>\n",
              "      <td>0.162830</td>\n",
              "      <td>NaN</td>\n",
              "      <td>0.330440</td>\n",
              "      <td>NaN</td>\n",
              "      <td>NaN</td>\n",
              "      <td>NaN</td>\n",
              "      <td>NaN</td>\n",
              "      <td>0.745778</td>\n",
              "      <td>NaN</td>\n",
              "      <td>NaN</td>\n",
              "      <td>NaN</td>\n",
              "      <td>NaN</td>\n",
              "      <td>NaN</td>\n",
              "    </tr>\n",
              "    <tr>\n",
              "      <th>min</th>\n",
              "      <td>5.675883e+17</td>\n",
              "      <td>NaN</td>\n",
              "      <td>0.335000</td>\n",
              "      <td>NaN</td>\n",
              "      <td>0.000000</td>\n",
              "      <td>NaN</td>\n",
              "      <td>NaN</td>\n",
              "      <td>NaN</td>\n",
              "      <td>NaN</td>\n",
              "      <td>0.000000</td>\n",
              "      <td>NaN</td>\n",
              "      <td>NaN</td>\n",
              "      <td>NaN</td>\n",
              "      <td>NaN</td>\n",
              "      <td>NaN</td>\n",
              "    </tr>\n",
              "    <tr>\n",
              "      <th>25%</th>\n",
              "      <td>5.685592e+17</td>\n",
              "      <td>NaN</td>\n",
              "      <td>0.692300</td>\n",
              "      <td>NaN</td>\n",
              "      <td>0.360600</td>\n",
              "      <td>NaN</td>\n",
              "      <td>NaN</td>\n",
              "      <td>NaN</td>\n",
              "      <td>NaN</td>\n",
              "      <td>0.000000</td>\n",
              "      <td>NaN</td>\n",
              "      <td>NaN</td>\n",
              "      <td>NaN</td>\n",
              "      <td>NaN</td>\n",
              "      <td>NaN</td>\n",
              "    </tr>\n",
              "    <tr>\n",
              "      <th>50%</th>\n",
              "      <td>5.694779e+17</td>\n",
              "      <td>NaN</td>\n",
              "      <td>1.000000</td>\n",
              "      <td>NaN</td>\n",
              "      <td>0.670600</td>\n",
              "      <td>NaN</td>\n",
              "      <td>NaN</td>\n",
              "      <td>NaN</td>\n",
              "      <td>NaN</td>\n",
              "      <td>0.000000</td>\n",
              "      <td>NaN</td>\n",
              "      <td>NaN</td>\n",
              "      <td>NaN</td>\n",
              "      <td>NaN</td>\n",
              "      <td>NaN</td>\n",
              "    </tr>\n",
              "    <tr>\n",
              "      <th>75%</th>\n",
              "      <td>5.698905e+17</td>\n",
              "      <td>NaN</td>\n",
              "      <td>1.000000</td>\n",
              "      <td>NaN</td>\n",
              "      <td>1.000000</td>\n",
              "      <td>NaN</td>\n",
              "      <td>NaN</td>\n",
              "      <td>NaN</td>\n",
              "      <td>NaN</td>\n",
              "      <td>0.000000</td>\n",
              "      <td>NaN</td>\n",
              "      <td>NaN</td>\n",
              "      <td>NaN</td>\n",
              "      <td>NaN</td>\n",
              "      <td>NaN</td>\n",
              "    </tr>\n",
              "    <tr>\n",
              "      <th>max</th>\n",
              "      <td>5.703106e+17</td>\n",
              "      <td>NaN</td>\n",
              "      <td>1.000000</td>\n",
              "      <td>NaN</td>\n",
              "      <td>1.000000</td>\n",
              "      <td>NaN</td>\n",
              "      <td>NaN</td>\n",
              "      <td>NaN</td>\n",
              "      <td>NaN</td>\n",
              "      <td>44.000000</td>\n",
              "      <td>NaN</td>\n",
              "      <td>NaN</td>\n",
              "      <td>NaN</td>\n",
              "      <td>NaN</td>\n",
              "      <td>NaN</td>\n",
              "    </tr>\n",
              "  </tbody>\n",
              "</table>\n",
              "</div>\n",
              "      <button class=\"colab-df-convert\" onclick=\"convertToInteractive('df-f5b06e72-1fd5-4014-b32f-39634b500b45')\"\n",
              "              title=\"Convert this dataframe to an interactive table.\"\n",
              "              style=\"display:none;\">\n",
              "        \n",
              "  <svg xmlns=\"http://www.w3.org/2000/svg\" height=\"24px\"viewBox=\"0 0 24 24\"\n",
              "       width=\"24px\">\n",
              "    <path d=\"M0 0h24v24H0V0z\" fill=\"none\"/>\n",
              "    <path d=\"M18.56 5.44l.94 2.06.94-2.06 2.06-.94-2.06-.94-.94-2.06-.94 2.06-2.06.94zm-11 1L8.5 8.5l.94-2.06 2.06-.94-2.06-.94L8.5 2.5l-.94 2.06-2.06.94zm10 10l.94 2.06.94-2.06 2.06-.94-2.06-.94-.94-2.06-.94 2.06-2.06.94z\"/><path d=\"M17.41 7.96l-1.37-1.37c-.4-.4-.92-.59-1.43-.59-.52 0-1.04.2-1.43.59L10.3 9.45l-7.72 7.72c-.78.78-.78 2.05 0 2.83L4 21.41c.39.39.9.59 1.41.59.51 0 1.02-.2 1.41-.59l7.78-7.78 2.81-2.81c.8-.78.8-2.07 0-2.86zM5.41 20L4 18.59l7.72-7.72 1.47 1.35L5.41 20z\"/>\n",
              "  </svg>\n",
              "      </button>\n",
              "      \n",
              "  <style>\n",
              "    .colab-df-container {\n",
              "      display:flex;\n",
              "      flex-wrap:wrap;\n",
              "      gap: 12px;\n",
              "    }\n",
              "\n",
              "    .colab-df-convert {\n",
              "      background-color: #E8F0FE;\n",
              "      border: none;\n",
              "      border-radius: 50%;\n",
              "      cursor: pointer;\n",
              "      display: none;\n",
              "      fill: #1967D2;\n",
              "      height: 32px;\n",
              "      padding: 0 0 0 0;\n",
              "      width: 32px;\n",
              "    }\n",
              "\n",
              "    .colab-df-convert:hover {\n",
              "      background-color: #E2EBFA;\n",
              "      box-shadow: 0px 1px 2px rgba(60, 64, 67, 0.3), 0px 1px 3px 1px rgba(60, 64, 67, 0.15);\n",
              "      fill: #174EA6;\n",
              "    }\n",
              "\n",
              "    [theme=dark] .colab-df-convert {\n",
              "      background-color: #3B4455;\n",
              "      fill: #D2E3FC;\n",
              "    }\n",
              "\n",
              "    [theme=dark] .colab-df-convert:hover {\n",
              "      background-color: #434B5C;\n",
              "      box-shadow: 0px 1px 3px 1px rgba(0, 0, 0, 0.15);\n",
              "      filter: drop-shadow(0px 1px 2px rgba(0, 0, 0, 0.3));\n",
              "      fill: #FFFFFF;\n",
              "    }\n",
              "  </style>\n",
              "\n",
              "      <script>\n",
              "        const buttonEl =\n",
              "          document.querySelector('#df-f5b06e72-1fd5-4014-b32f-39634b500b45 button.colab-df-convert');\n",
              "        buttonEl.style.display =\n",
              "          google.colab.kernel.accessAllowed ? 'block' : 'none';\n",
              "\n",
              "        async function convertToInteractive(key) {\n",
              "          const element = document.querySelector('#df-f5b06e72-1fd5-4014-b32f-39634b500b45');\n",
              "          const dataTable =\n",
              "            await google.colab.kernel.invokeFunction('convertToInteractive',\n",
              "                                                     [key], {});\n",
              "          if (!dataTable) return;\n",
              "\n",
              "          const docLinkHtml = 'Like what you see? Visit the ' +\n",
              "            '<a target=\"_blank\" href=https://colab.research.google.com/notebooks/data_table.ipynb>data table notebook</a>'\n",
              "            + ' to learn more about interactive tables.';\n",
              "          element.innerHTML = '';\n",
              "          dataTable['output_type'] = 'display_data';\n",
              "          await google.colab.output.renderOutput(dataTable, element);\n",
              "          const docLink = document.createElement('div');\n",
              "          docLink.innerHTML = docLinkHtml;\n",
              "          element.appendChild(docLink);\n",
              "        }\n",
              "      </script>\n",
              "    </div>\n",
              "  </div>\n",
              "  "
            ]
          },
          "metadata": {},
          "execution_count": 7
        }
      ]
    },
    {
      "cell_type": "code",
      "source": [
        "tweets.info()"
      ],
      "metadata": {
        "colab": {
          "base_uri": "https://localhost:8080/"
        },
        "id": "mnIUzaUOSsAf",
        "outputId": "891604f4-7aec-45e4-f2be-550e78c11983"
      },
      "execution_count": 8,
      "outputs": [
        {
          "output_type": "stream",
          "name": "stdout",
          "text": [
            "<class 'pandas.core.frame.DataFrame'>\n",
            "RangeIndex: 14640 entries, 0 to 14639\n",
            "Data columns (total 15 columns):\n",
            " #   Column                        Non-Null Count  Dtype  \n",
            "---  ------                        --------------  -----  \n",
            " 0   tweet_id                      14640 non-null  int64  \n",
            " 1   airline_sentiment             14640 non-null  object \n",
            " 2   airline_sentiment_confidence  14640 non-null  float64\n",
            " 3   negativereason                9178 non-null   object \n",
            " 4   negativereason_confidence     10522 non-null  float64\n",
            " 5   airline                       14640 non-null  object \n",
            " 6   airline_sentiment_gold        40 non-null     object \n",
            " 7   name                          14640 non-null  object \n",
            " 8   negativereason_gold           32 non-null     object \n",
            " 9   retweet_count                 14640 non-null  int64  \n",
            " 10  text                          14640 non-null  object \n",
            " 11  tweet_coord                   1019 non-null   object \n",
            " 12  tweet_created                 14640 non-null  object \n",
            " 13  tweet_location                9907 non-null   object \n",
            " 14  user_timezone                 9820 non-null   object \n",
            "dtypes: float64(2), int64(2), object(11)\n",
            "memory usage: 1.7+ MB\n"
          ]
        }
      ]
    },
    {
      "cell_type": "code",
      "source": [
        "(tweets.isnull().sum()/len(tweets))*100  ## columns_to_be_dropped = ['airline_sentiment_gold','negativereason_gold','tweet_coord']"
      ],
      "metadata": {
        "colab": {
          "base_uri": "https://localhost:8080/"
        },
        "id": "KcnUWMP0SvGK",
        "outputId": "5f074975-d3ab-4b6b-ea6a-e9cb7c9987dc"
      },
      "execution_count": 9,
      "outputs": [
        {
          "output_type": "execute_result",
          "data": {
            "text/plain": [
              "tweet_id                         0.000000\n",
              "airline_sentiment                0.000000\n",
              "airline_sentiment_confidence     0.000000\n",
              "negativereason                  37.308743\n",
              "negativereason_confidence       28.128415\n",
              "airline                          0.000000\n",
              "airline_sentiment_gold          99.726776\n",
              "name                             0.000000\n",
              "negativereason_gold             99.781421\n",
              "retweet_count                    0.000000\n",
              "text                             0.000000\n",
              "tweet_coord                     93.039617\n",
              "tweet_created                    0.000000\n",
              "tweet_location                  32.329235\n",
              "user_timezone                   32.923497\n",
              "dtype: float64"
            ]
          },
          "metadata": {},
          "execution_count": 9
        }
      ]
    },
    {
      "cell_type": "code",
      "source": [
        "len(tweets['negativereason'].unique())"
      ],
      "metadata": {
        "colab": {
          "base_uri": "https://localhost:8080/"
        },
        "id": "sjLrYJKWS2Am",
        "outputId": "dae68c46-66b2-4b10-efbb-72795cbd33fa"
      },
      "execution_count": 10,
      "outputs": [
        {
          "output_type": "execute_result",
          "data": {
            "text/plain": [
              "11"
            ]
          },
          "metadata": {},
          "execution_count": 10
        }
      ]
    },
    {
      "cell_type": "code",
      "source": [
        "tweets['negativereason'].value_counts()"
      ],
      "metadata": {
        "colab": {
          "base_uri": "https://localhost:8080/"
        },
        "id": "7QPbB3fKS40Z",
        "outputId": "7e8db100-0d10-4abd-bd3d-2bd825346be3"
      },
      "execution_count": 11,
      "outputs": [
        {
          "output_type": "execute_result",
          "data": {
            "text/plain": [
              "Customer Service Issue         2910\n",
              "Late Flight                    1665\n",
              "Can't Tell                     1190\n",
              "Cancelled Flight                847\n",
              "Lost Luggage                    724\n",
              "Bad Flight                      580\n",
              "Flight Booking Problems         529\n",
              "Flight Attendant Complaints     481\n",
              "longlines                       178\n",
              "Damaged Luggage                  74\n",
              "Name: negativereason, dtype: int64"
            ]
          },
          "metadata": {},
          "execution_count": 11
        }
      ]
    },
    {
      "cell_type": "code",
      "source": [
        "df = tweets[['airline_sentiment','text']]\n",
        "df = df[ df['airline_sentiment'] !='neutral' ]"
      ],
      "metadata": {
        "id": "K2qYr2PsS7j9"
      },
      "execution_count": 12,
      "outputs": []
    },
    {
      "cell_type": "code",
      "source": [
        "df.airline_sentiment.unique()"
      ],
      "metadata": {
        "colab": {
          "base_uri": "https://localhost:8080/"
        },
        "id": "xk2xBCSPTEBR",
        "outputId": "716689ef-a45b-423c-abc5-d3dc38224688"
      },
      "execution_count": 13,
      "outputs": [
        {
          "output_type": "execute_result",
          "data": {
            "text/plain": [
              "array(['positive', 'negative'], dtype=object)"
            ]
          },
          "metadata": {},
          "execution_count": 13
        }
      ]
    },
    {
      "cell_type": "code",
      "source": [
        "df['airline_sentiment'] = df['airline_sentiment'].apply(lambda x: 1 if x == 'positive' else 0)"
      ],
      "metadata": {
        "id": "RBkcKSN6TIQr"
      },
      "execution_count": 14,
      "outputs": []
    },
    {
      "cell_type": "code",
      "source": [
        "df.head()"
      ],
      "metadata": {
        "colab": {
          "base_uri": "https://localhost:8080/",
          "height": 206
        },
        "id": "M-EPKOBJTTbO",
        "outputId": "36ef4355-8ccc-43e0-dfe8-ca9570a1ab73"
      },
      "execution_count": 15,
      "outputs": [
        {
          "output_type": "execute_result",
          "data": {
            "text/plain": [
              "   airline_sentiment                                               text\n",
              "1                  1  @VirginAmerica plus you've added commercials t...\n",
              "3                  0  @VirginAmerica it's really aggressive to blast...\n",
              "4                  0  @VirginAmerica and it's a really big bad thing...\n",
              "5                  0  @VirginAmerica seriously would pay $30 a fligh...\n",
              "6                  1  @VirginAmerica yes, nearly every time I fly VX..."
            ],
            "text/html": [
              "\n",
              "  <div id=\"df-2edab4b5-58c8-410c-a084-5e13cdecd4ef\">\n",
              "    <div class=\"colab-df-container\">\n",
              "      <div>\n",
              "<style scoped>\n",
              "    .dataframe tbody tr th:only-of-type {\n",
              "        vertical-align: middle;\n",
              "    }\n",
              "\n",
              "    .dataframe tbody tr th {\n",
              "        vertical-align: top;\n",
              "    }\n",
              "\n",
              "    .dataframe thead th {\n",
              "        text-align: right;\n",
              "    }\n",
              "</style>\n",
              "<table border=\"1\" class=\"dataframe\">\n",
              "  <thead>\n",
              "    <tr style=\"text-align: right;\">\n",
              "      <th></th>\n",
              "      <th>airline_sentiment</th>\n",
              "      <th>text</th>\n",
              "    </tr>\n",
              "  </thead>\n",
              "  <tbody>\n",
              "    <tr>\n",
              "      <th>1</th>\n",
              "      <td>1</td>\n",
              "      <td>@VirginAmerica plus you've added commercials t...</td>\n",
              "    </tr>\n",
              "    <tr>\n",
              "      <th>3</th>\n",
              "      <td>0</td>\n",
              "      <td>@VirginAmerica it's really aggressive to blast...</td>\n",
              "    </tr>\n",
              "    <tr>\n",
              "      <th>4</th>\n",
              "      <td>0</td>\n",
              "      <td>@VirginAmerica and it's a really big bad thing...</td>\n",
              "    </tr>\n",
              "    <tr>\n",
              "      <th>5</th>\n",
              "      <td>0</td>\n",
              "      <td>@VirginAmerica seriously would pay $30 a fligh...</td>\n",
              "    </tr>\n",
              "    <tr>\n",
              "      <th>6</th>\n",
              "      <td>1</td>\n",
              "      <td>@VirginAmerica yes, nearly every time I fly VX...</td>\n",
              "    </tr>\n",
              "  </tbody>\n",
              "</table>\n",
              "</div>\n",
              "      <button class=\"colab-df-convert\" onclick=\"convertToInteractive('df-2edab4b5-58c8-410c-a084-5e13cdecd4ef')\"\n",
              "              title=\"Convert this dataframe to an interactive table.\"\n",
              "              style=\"display:none;\">\n",
              "        \n",
              "  <svg xmlns=\"http://www.w3.org/2000/svg\" height=\"24px\"viewBox=\"0 0 24 24\"\n",
              "       width=\"24px\">\n",
              "    <path d=\"M0 0h24v24H0V0z\" fill=\"none\"/>\n",
              "    <path d=\"M18.56 5.44l.94 2.06.94-2.06 2.06-.94-2.06-.94-.94-2.06-.94 2.06-2.06.94zm-11 1L8.5 8.5l.94-2.06 2.06-.94-2.06-.94L8.5 2.5l-.94 2.06-2.06.94zm10 10l.94 2.06.94-2.06 2.06-.94-2.06-.94-.94-2.06-.94 2.06-2.06.94z\"/><path d=\"M17.41 7.96l-1.37-1.37c-.4-.4-.92-.59-1.43-.59-.52 0-1.04.2-1.43.59L10.3 9.45l-7.72 7.72c-.78.78-.78 2.05 0 2.83L4 21.41c.39.39.9.59 1.41.59.51 0 1.02-.2 1.41-.59l7.78-7.78 2.81-2.81c.8-.78.8-2.07 0-2.86zM5.41 20L4 18.59l7.72-7.72 1.47 1.35L5.41 20z\"/>\n",
              "  </svg>\n",
              "      </button>\n",
              "      \n",
              "  <style>\n",
              "    .colab-df-container {\n",
              "      display:flex;\n",
              "      flex-wrap:wrap;\n",
              "      gap: 12px;\n",
              "    }\n",
              "\n",
              "    .colab-df-convert {\n",
              "      background-color: #E8F0FE;\n",
              "      border: none;\n",
              "      border-radius: 50%;\n",
              "      cursor: pointer;\n",
              "      display: none;\n",
              "      fill: #1967D2;\n",
              "      height: 32px;\n",
              "      padding: 0 0 0 0;\n",
              "      width: 32px;\n",
              "    }\n",
              "\n",
              "    .colab-df-convert:hover {\n",
              "      background-color: #E2EBFA;\n",
              "      box-shadow: 0px 1px 2px rgba(60, 64, 67, 0.3), 0px 1px 3px 1px rgba(60, 64, 67, 0.15);\n",
              "      fill: #174EA6;\n",
              "    }\n",
              "\n",
              "    [theme=dark] .colab-df-convert {\n",
              "      background-color: #3B4455;\n",
              "      fill: #D2E3FC;\n",
              "    }\n",
              "\n",
              "    [theme=dark] .colab-df-convert:hover {\n",
              "      background-color: #434B5C;\n",
              "      box-shadow: 0px 1px 3px 1px rgba(0, 0, 0, 0.15);\n",
              "      filter: drop-shadow(0px 1px 2px rgba(0, 0, 0, 0.3));\n",
              "      fill: #FFFFFF;\n",
              "    }\n",
              "  </style>\n",
              "\n",
              "      <script>\n",
              "        const buttonEl =\n",
              "          document.querySelector('#df-2edab4b5-58c8-410c-a084-5e13cdecd4ef button.colab-df-convert');\n",
              "        buttonEl.style.display =\n",
              "          google.colab.kernel.accessAllowed ? 'block' : 'none';\n",
              "\n",
              "        async function convertToInteractive(key) {\n",
              "          const element = document.querySelector('#df-2edab4b5-58c8-410c-a084-5e13cdecd4ef');\n",
              "          const dataTable =\n",
              "            await google.colab.kernel.invokeFunction('convertToInteractive',\n",
              "                                                     [key], {});\n",
              "          if (!dataTable) return;\n",
              "\n",
              "          const docLinkHtml = 'Like what you see? Visit the ' +\n",
              "            '<a target=\"_blank\" href=https://colab.research.google.com/notebooks/data_table.ipynb>data table notebook</a>'\n",
              "            + ' to learn more about interactive tables.';\n",
              "          element.innerHTML = '';\n",
              "          dataTable['output_type'] = 'display_data';\n",
              "          await google.colab.output.renderOutput(dataTable, element);\n",
              "          const docLink = document.createElement('div');\n",
              "          docLink.innerHTML = docLinkHtml;\n",
              "          element.appendChild(docLink);\n",
              "        }\n",
              "      </script>\n",
              "    </div>\n",
              "  </div>\n",
              "  "
            ]
          },
          "metadata": {},
          "execution_count": 15
        }
      ]
    },
    {
      "cell_type": "code",
      "source": [
        "import nltk\n",
        "import string\n",
        "nltk.download('stopwords')"
      ],
      "metadata": {
        "colab": {
          "base_uri": "https://localhost:8080/"
        },
        "id": "XwNgynhWTWMc",
        "outputId": "c6c3c169-5e8c-4a18-e49d-83134b74ba24"
      },
      "execution_count": 16,
      "outputs": [
        {
          "output_type": "stream",
          "name": "stderr",
          "text": [
            "[nltk_data] Downloading package stopwords to /root/nltk_data...\n",
            "[nltk_data]   Unzipping corpora/stopwords.zip.\n"
          ]
        },
        {
          "output_type": "execute_result",
          "data": {
            "text/plain": [
              "True"
            ]
          },
          "metadata": {},
          "execution_count": 16
        }
      ]
    },
    {
      "cell_type": "code",
      "source": [
        "from nltk.corpus import stopwords\n",
        "stopwords.words('english')"
      ],
      "metadata": {
        "colab": {
          "base_uri": "https://localhost:8080/"
        },
        "id": "EVHnyNgpTj_E",
        "outputId": "107fa952-0940-4cc6-e2b7-7a4dabb310ce"
      },
      "execution_count": 17,
      "outputs": [
        {
          "output_type": "execute_result",
          "data": {
            "text/plain": [
              "['i',\n",
              " 'me',\n",
              " 'my',\n",
              " 'myself',\n",
              " 'we',\n",
              " 'our',\n",
              " 'ours',\n",
              " 'ourselves',\n",
              " 'you',\n",
              " \"you're\",\n",
              " \"you've\",\n",
              " \"you'll\",\n",
              " \"you'd\",\n",
              " 'your',\n",
              " 'yours',\n",
              " 'yourself',\n",
              " 'yourselves',\n",
              " 'he',\n",
              " 'him',\n",
              " 'his',\n",
              " 'himself',\n",
              " 'she',\n",
              " \"she's\",\n",
              " 'her',\n",
              " 'hers',\n",
              " 'herself',\n",
              " 'it',\n",
              " \"it's\",\n",
              " 'its',\n",
              " 'itself',\n",
              " 'they',\n",
              " 'them',\n",
              " 'their',\n",
              " 'theirs',\n",
              " 'themselves',\n",
              " 'what',\n",
              " 'which',\n",
              " 'who',\n",
              " 'whom',\n",
              " 'this',\n",
              " 'that',\n",
              " \"that'll\",\n",
              " 'these',\n",
              " 'those',\n",
              " 'am',\n",
              " 'is',\n",
              " 'are',\n",
              " 'was',\n",
              " 'were',\n",
              " 'be',\n",
              " 'been',\n",
              " 'being',\n",
              " 'have',\n",
              " 'has',\n",
              " 'had',\n",
              " 'having',\n",
              " 'do',\n",
              " 'does',\n",
              " 'did',\n",
              " 'doing',\n",
              " 'a',\n",
              " 'an',\n",
              " 'the',\n",
              " 'and',\n",
              " 'but',\n",
              " 'if',\n",
              " 'or',\n",
              " 'because',\n",
              " 'as',\n",
              " 'until',\n",
              " 'while',\n",
              " 'of',\n",
              " 'at',\n",
              " 'by',\n",
              " 'for',\n",
              " 'with',\n",
              " 'about',\n",
              " 'against',\n",
              " 'between',\n",
              " 'into',\n",
              " 'through',\n",
              " 'during',\n",
              " 'before',\n",
              " 'after',\n",
              " 'above',\n",
              " 'below',\n",
              " 'to',\n",
              " 'from',\n",
              " 'up',\n",
              " 'down',\n",
              " 'in',\n",
              " 'out',\n",
              " 'on',\n",
              " 'off',\n",
              " 'over',\n",
              " 'under',\n",
              " 'again',\n",
              " 'further',\n",
              " 'then',\n",
              " 'once',\n",
              " 'here',\n",
              " 'there',\n",
              " 'when',\n",
              " 'where',\n",
              " 'why',\n",
              " 'how',\n",
              " 'all',\n",
              " 'any',\n",
              " 'both',\n",
              " 'each',\n",
              " 'few',\n",
              " 'more',\n",
              " 'most',\n",
              " 'other',\n",
              " 'some',\n",
              " 'such',\n",
              " 'no',\n",
              " 'nor',\n",
              " 'not',\n",
              " 'only',\n",
              " 'own',\n",
              " 'same',\n",
              " 'so',\n",
              " 'than',\n",
              " 'too',\n",
              " 'very',\n",
              " 's',\n",
              " 't',\n",
              " 'can',\n",
              " 'will',\n",
              " 'just',\n",
              " 'don',\n",
              " \"don't\",\n",
              " 'should',\n",
              " \"should've\",\n",
              " 'now',\n",
              " 'd',\n",
              " 'll',\n",
              " 'm',\n",
              " 'o',\n",
              " 're',\n",
              " 've',\n",
              " 'y',\n",
              " 'ain',\n",
              " 'aren',\n",
              " \"aren't\",\n",
              " 'couldn',\n",
              " \"couldn't\",\n",
              " 'didn',\n",
              " \"didn't\",\n",
              " 'doesn',\n",
              " \"doesn't\",\n",
              " 'hadn',\n",
              " \"hadn't\",\n",
              " 'hasn',\n",
              " \"hasn't\",\n",
              " 'haven',\n",
              " \"haven't\",\n",
              " 'isn',\n",
              " \"isn't\",\n",
              " 'ma',\n",
              " 'mightn',\n",
              " \"mightn't\",\n",
              " 'mustn',\n",
              " \"mustn't\",\n",
              " 'needn',\n",
              " \"needn't\",\n",
              " 'shan',\n",
              " \"shan't\",\n",
              " 'shouldn',\n",
              " \"shouldn't\",\n",
              " 'wasn',\n",
              " \"wasn't\",\n",
              " 'weren',\n",
              " \"weren't\",\n",
              " 'won',\n",
              " \"won't\",\n",
              " 'wouldn',\n",
              " \"wouldn't\"]"
            ]
          },
          "metadata": {},
          "execution_count": 17
        }
      ]
    },
    {
      "cell_type": "code",
      "source": [
        "[punc for punc in string.punctuation]"
      ],
      "metadata": {
        "colab": {
          "base_uri": "https://localhost:8080/"
        },
        "id": "mqD-1TJpTn4x",
        "outputId": "df544df3-e10f-48e0-c710-7211f54a7702"
      },
      "execution_count": 18,
      "outputs": [
        {
          "output_type": "execute_result",
          "data": {
            "text/plain": [
              "['!',\n",
              " '\"',\n",
              " '#',\n",
              " '$',\n",
              " '%',\n",
              " '&',\n",
              " \"'\",\n",
              " '(',\n",
              " ')',\n",
              " '*',\n",
              " '+',\n",
              " ',',\n",
              " '-',\n",
              " '.',\n",
              " '/',\n",
              " ':',\n",
              " ';',\n",
              " '<',\n",
              " '=',\n",
              " '>',\n",
              " '?',\n",
              " '@',\n",
              " '[',\n",
              " '\\\\',\n",
              " ']',\n",
              " '^',\n",
              " '_',\n",
              " '`',\n",
              " '{',\n",
              " '|',\n",
              " '}',\n",
              " '~']"
            ]
          },
          "metadata": {},
          "execution_count": 18
        }
      ]
    },
    {
      "cell_type": "code",
      "source": [
        "def punc_removal(msg):\n",
        "    \"takes string and returns string after removing punctuations\"\n",
        "    non_punc_msg = [ms for ms in msg if ms not in string.punctuation]\n",
        "    return ''.join(non_punc_msg)"
      ],
      "metadata": {
        "id": "TGf9WPRYTyvH"
      },
      "execution_count": 19,
      "outputs": []
    },
    {
      "cell_type": "code",
      "source": [
        "def stopwords_removal(msg):\n",
        "    \"takes string and returns string after removing stopwords\"\n",
        "    non_punc = punc_removal(msg)\n",
        "    non_stopword_msg = [ms for ms in non_punc.split() if ms.lower() not in stopwords.words('english')]\n",
        "    return ' '.join(non_stopword_msg)"
      ],
      "metadata": {
        "id": "BKiuVtfUT2Aj"
      },
      "execution_count": 20,
      "outputs": []
    },
    {
      "cell_type": "code",
      "source": [
        "df['tokenize'] = df['text'].apply(stopwords_removal)"
      ],
      "metadata": {
        "id": "gtsLonu3T4cw"
      },
      "execution_count": 21,
      "outputs": []
    },
    {
      "cell_type": "code",
      "source": [
        "pd.set_option('display.max_colwidth', -1)\n",
        "df.head()"
      ],
      "metadata": {
        "colab": {
          "base_uri": "https://localhost:8080/",
          "height": 342
        },
        "id": "I6_hkEXVT9Lr",
        "outputId": "68ed6a35-9e24-44cc-cd31-22911150072d"
      },
      "execution_count": 22,
      "outputs": [
        {
          "output_type": "stream",
          "name": "stderr",
          "text": [
            "/usr/local/lib/python3.7/dist-packages/ipykernel_launcher.py:1: FutureWarning: Passing a negative integer is deprecated in version 1.0 and will not be supported in future version. Instead, use None to not limit the column width.\n",
            "  \"\"\"Entry point for launching an IPython kernel.\n"
          ]
        },
        {
          "output_type": "execute_result",
          "data": {
            "text/plain": [
              "   airline_sentiment  \\\n",
              "1  1                   \n",
              "3  0                   \n",
              "4  0                   \n",
              "5  0                   \n",
              "6  1                   \n",
              "\n",
              "                                                                                                                                       text  \\\n",
              "1  @VirginAmerica plus you've added commercials to the experience... tacky.                                                                   \n",
              "3  @VirginAmerica it's really aggressive to blast obnoxious \"entertainment\" in your guests' faces &amp; they have little recourse             \n",
              "4  @VirginAmerica and it's a really big bad thing about it                                                                                    \n",
              "5  @VirginAmerica seriously would pay $30 a flight for seats that didn't have this playing.\\nit's really the only bad thing about flying VA   \n",
              "6  @VirginAmerica yes, nearly every time I fly VX this “ear worm” won’t go away :)                                                            \n",
              "\n",
              "                                                                                         tokenize  \n",
              "1  VirginAmerica plus youve added commercials experience tacky                                     \n",
              "3  VirginAmerica really aggressive blast obnoxious entertainment guests faces amp little recourse  \n",
              "4  VirginAmerica really big bad thing                                                              \n",
              "5  VirginAmerica seriously would pay 30 flight seats didnt playing really bad thing flying VA      \n",
              "6  VirginAmerica yes nearly every time fly VX “ear worm” won’t go away                             "
            ],
            "text/html": [
              "\n",
              "  <div id=\"df-34f7ba52-69e1-4761-81de-9fd4179da0eb\">\n",
              "    <div class=\"colab-df-container\">\n",
              "      <div>\n",
              "<style scoped>\n",
              "    .dataframe tbody tr th:only-of-type {\n",
              "        vertical-align: middle;\n",
              "    }\n",
              "\n",
              "    .dataframe tbody tr th {\n",
              "        vertical-align: top;\n",
              "    }\n",
              "\n",
              "    .dataframe thead th {\n",
              "        text-align: right;\n",
              "    }\n",
              "</style>\n",
              "<table border=\"1\" class=\"dataframe\">\n",
              "  <thead>\n",
              "    <tr style=\"text-align: right;\">\n",
              "      <th></th>\n",
              "      <th>airline_sentiment</th>\n",
              "      <th>text</th>\n",
              "      <th>tokenize</th>\n",
              "    </tr>\n",
              "  </thead>\n",
              "  <tbody>\n",
              "    <tr>\n",
              "      <th>1</th>\n",
              "      <td>1</td>\n",
              "      <td>@VirginAmerica plus you've added commercials to the experience... tacky.</td>\n",
              "      <td>VirginAmerica plus youve added commercials experience tacky</td>\n",
              "    </tr>\n",
              "    <tr>\n",
              "      <th>3</th>\n",
              "      <td>0</td>\n",
              "      <td>@VirginAmerica it's really aggressive to blast obnoxious \"entertainment\" in your guests' faces &amp;amp; they have little recourse</td>\n",
              "      <td>VirginAmerica really aggressive blast obnoxious entertainment guests faces amp little recourse</td>\n",
              "    </tr>\n",
              "    <tr>\n",
              "      <th>4</th>\n",
              "      <td>0</td>\n",
              "      <td>@VirginAmerica and it's a really big bad thing about it</td>\n",
              "      <td>VirginAmerica really big bad thing</td>\n",
              "    </tr>\n",
              "    <tr>\n",
              "      <th>5</th>\n",
              "      <td>0</td>\n",
              "      <td>@VirginAmerica seriously would pay $30 a flight for seats that didn't have this playing.\\nit's really the only bad thing about flying VA</td>\n",
              "      <td>VirginAmerica seriously would pay 30 flight seats didnt playing really bad thing flying VA</td>\n",
              "    </tr>\n",
              "    <tr>\n",
              "      <th>6</th>\n",
              "      <td>1</td>\n",
              "      <td>@VirginAmerica yes, nearly every time I fly VX this “ear worm” won’t go away :)</td>\n",
              "      <td>VirginAmerica yes nearly every time fly VX “ear worm” won’t go away</td>\n",
              "    </tr>\n",
              "  </tbody>\n",
              "</table>\n",
              "</div>\n",
              "      <button class=\"colab-df-convert\" onclick=\"convertToInteractive('df-34f7ba52-69e1-4761-81de-9fd4179da0eb')\"\n",
              "              title=\"Convert this dataframe to an interactive table.\"\n",
              "              style=\"display:none;\">\n",
              "        \n",
              "  <svg xmlns=\"http://www.w3.org/2000/svg\" height=\"24px\"viewBox=\"0 0 24 24\"\n",
              "       width=\"24px\">\n",
              "    <path d=\"M0 0h24v24H0V0z\" fill=\"none\"/>\n",
              "    <path d=\"M18.56 5.44l.94 2.06.94-2.06 2.06-.94-2.06-.94-.94-2.06-.94 2.06-2.06.94zm-11 1L8.5 8.5l.94-2.06 2.06-.94-2.06-.94L8.5 2.5l-.94 2.06-2.06.94zm10 10l.94 2.06.94-2.06 2.06-.94-2.06-.94-.94-2.06-.94 2.06-2.06.94z\"/><path d=\"M17.41 7.96l-1.37-1.37c-.4-.4-.92-.59-1.43-.59-.52 0-1.04.2-1.43.59L10.3 9.45l-7.72 7.72c-.78.78-.78 2.05 0 2.83L4 21.41c.39.39.9.59 1.41.59.51 0 1.02-.2 1.41-.59l7.78-7.78 2.81-2.81c.8-.78.8-2.07 0-2.86zM5.41 20L4 18.59l7.72-7.72 1.47 1.35L5.41 20z\"/>\n",
              "  </svg>\n",
              "      </button>\n",
              "      \n",
              "  <style>\n",
              "    .colab-df-container {\n",
              "      display:flex;\n",
              "      flex-wrap:wrap;\n",
              "      gap: 12px;\n",
              "    }\n",
              "\n",
              "    .colab-df-convert {\n",
              "      background-color: #E8F0FE;\n",
              "      border: none;\n",
              "      border-radius: 50%;\n",
              "      cursor: pointer;\n",
              "      display: none;\n",
              "      fill: #1967D2;\n",
              "      height: 32px;\n",
              "      padding: 0 0 0 0;\n",
              "      width: 32px;\n",
              "    }\n",
              "\n",
              "    .colab-df-convert:hover {\n",
              "      background-color: #E2EBFA;\n",
              "      box-shadow: 0px 1px 2px rgba(60, 64, 67, 0.3), 0px 1px 3px 1px rgba(60, 64, 67, 0.15);\n",
              "      fill: #174EA6;\n",
              "    }\n",
              "\n",
              "    [theme=dark] .colab-df-convert {\n",
              "      background-color: #3B4455;\n",
              "      fill: #D2E3FC;\n",
              "    }\n",
              "\n",
              "    [theme=dark] .colab-df-convert:hover {\n",
              "      background-color: #434B5C;\n",
              "      box-shadow: 0px 1px 3px 1px rgba(0, 0, 0, 0.15);\n",
              "      filter: drop-shadow(0px 1px 2px rgba(0, 0, 0, 0.3));\n",
              "      fill: #FFFFFF;\n",
              "    }\n",
              "  </style>\n",
              "\n",
              "      <script>\n",
              "        const buttonEl =\n",
              "          document.querySelector('#df-34f7ba52-69e1-4761-81de-9fd4179da0eb button.colab-df-convert');\n",
              "        buttonEl.style.display =\n",
              "          google.colab.kernel.accessAllowed ? 'block' : 'none';\n",
              "\n",
              "        async function convertToInteractive(key) {\n",
              "          const element = document.querySelector('#df-34f7ba52-69e1-4761-81de-9fd4179da0eb');\n",
              "          const dataTable =\n",
              "            await google.colab.kernel.invokeFunction('convertToInteractive',\n",
              "                                                     [key], {});\n",
              "          if (!dataTable) return;\n",
              "\n",
              "          const docLinkHtml = 'Like what you see? Visit the ' +\n",
              "            '<a target=\"_blank\" href=https://colab.research.google.com/notebooks/data_table.ipynb>data table notebook</a>'\n",
              "            + ' to learn more about interactive tables.';\n",
              "          element.innerHTML = '';\n",
              "          dataTable['output_type'] = 'display_data';\n",
              "          await google.colab.output.renderOutput(dataTable, element);\n",
              "          const docLink = document.createElement('div');\n",
              "          docLink.innerHTML = docLinkHtml;\n",
              "          element.appendChild(docLink);\n",
              "        }\n",
              "      </script>\n",
              "    </div>\n",
              "  </div>\n",
              "  "
            ]
          },
          "metadata": {},
          "execution_count": 22
        }
      ]
    },
    {
      "cell_type": "markdown",
      "source": [
        "## Count vectorize the tweets so that you end up with a sparse matrix (which will be your  X)"
      ],
      "metadata": {
        "id": "VAq4wMD8qxer"
      }
    },
    {
      "cell_type": "code",
      "source": [
        "from sklearn.feature_extraction.text import TfidfVectorizer"
      ],
      "metadata": {
        "id": "5KrQmcueUAsX"
      },
      "execution_count": 23,
      "outputs": []
    },
    {
      "cell_type": "code",
      "source": [
        "vectorizer = TfidfVectorizer(max_df=.9, min_df=10)\n",
        "X = vectorizer.fit_transform(df['tokenize'])"
      ],
      "metadata": {
        "id": "4kbeQD8rUDy1"
      },
      "execution_count": 24,
      "outputs": []
    },
    {
      "cell_type": "code",
      "source": [
        "print(vectorizer.get_feature_names())"
      ],
      "metadata": {
        "colab": {
          "base_uri": "https://localhost:8080/"
        },
        "id": "Upa2TaR9UGAX",
        "outputId": "ebf00775-8d5c-4285-fc1a-9c874a067d3e"
      },
      "execution_count": 25,
      "outputs": [
        {
          "output_type": "stream",
          "name": "stdout",
          "text": [
            "['10', '100', '1000', '11', '12', '13', '14', '140', '15', '150', '16', '17', '18', '1800', '1hr', '1k', '1st', '20', '200', '2015', '21', '22', '23', '24', '24hrs', '25', '2day', '2hrs', '2nd', '30', '300', '32', '34', '35', '3hrs', '3rd', '40', '400', '45', '50', '500', '60', '600', '70', '728', '75', '800', '90', 'aa', 'able', 'absolute', 'absolutely', 'absurd', 'accept', 'acceptable', 'access', 'accommodate', 'according', 'account', 'across', 'act', 'actual', 'actually', 'add', 'added', 'adding', 'additional', 'address', 'admirals', 'advise', 'afford', 'afternoon', 'agent', 'agents', 'ago', 'ahead', 'air', 'aircraft', 'airline', 'airlines', 'airplane', 'airport', 'airports', 'airways', 'allow', 'allowed', 'allowing', 'almost', 'alone', 'along', 'already', 'also', 'alternate', 'although', 'always', 'amazing', 'america', 'american', 'americanair', 'americanairlines', 'amount', 'amp', 'angry', 'announcement', 'annoying', 'another', 'answer', 'answered', 'answering', 'answers', 'anymore', 'anyone', 'anything', 'anyway', 'anywhere', 'apologies', 'apologize', 'apology', 'app', 'apparently', 'appreciate', 'appreciated', 'area', 'arent', 'around', 'arrival', 'arrive', 'arrived', 'arrives', 'arriving', 'asap', 'ashamed', 'ask', 'asked', 'asking', 'ass', 'assigned', 'assist', 'assistance', 'atl', 'atlanta', 'attempt', 'attendant', 'attendants', 'attitude', 'austin', 'auto', 'automated', 'avail', 'available', 'avoid', 'award', 'aware', 'away', 'awesome', 'awful', 'b4', 'baby', 'back', 'bad', 'badcustomerservice', 'badservice', 'bag', 'baggage', 'bags', 'ball', 'bank', 'based', 'bc', 'bday', 'bdl', 'beautiful', 'become', 'behind', 'believe', 'best', 'better', 'beyond', 'big', 'bird', 'birthday', 'bit', 'biz', 'black', 'blame', 'blue', 'bna', 'board', 'boarded', 'boarding', 'book', 'booked', 'booking', 'bos', 'boston', 'bother', 'bought', 'brand', 'break', 'bring', 'bringing', 'broke', 'broken', 'bs', 'btw', 'buffalo', 'bumped', 'bus', 'business', 'busy', 'buy', 'bwi', 'cab', 'cabin', 'call', 'callback', 'called', 'calling', 'calls', 'came', 'cancelled', 'cancun', 'canned', 'cannot', 'cant', 'captain', 'car', 'card', 'care', 'carousel', 'carrier', 'carriers', 'carry', 'carryon', 'case', 'catch', 'catering', 'cause', 'caused', 'causing', 'cc', 'cell', 'center', 'ceo', 'chairman', 'chance', 'change', 'changed', 'changes', 'changing', 'characters', 'charge', 'charged', 'charging', 'charlotte', 'cheap', 'check', 'checked', 'checkin', 'checking', 'cheers', 'chicago', 'child', 'children', 'choice', 'choose', 'cities', 'city', 'claim', 'claims', 'class', 'clean', 'clear', 'clearly', 'close', 'closed', 'clothes', 'clt', 'club', 'clue', 'cmh', 'coach', 'code', 'coffee', 'cold', 'come', 'coming', 'communication', 'comp', 'companion', 'company', 'compassion', 'compensate', 'compensation', 'complaint', 'complaints', 'complete', 'completely', 'computer', 'computers', 'concern', 'conditions', 'conf', 'confirm', 'confirmation', 'confirmed', 'congrats', 'connect', 'connecting', 'connection', 'connections', 'consider', 'considering', 'contact', 'contacted', 'contacting', 'continue', 'control', 'cool', 'corporate', 'correct', 'cost', 'costs', 'could', 'couldnt', 'count', 'counter', 'counting', 'country', 'couple', 'course', 'courtesy', 'cover', 'crap', 'crappy', 'crazy', 'credit', 'crew', 'crews', 'cross', 'crossed', 'cs', 'current', 'currently', 'cust', 'customer', 'customers', 'customerservice', 'cut', 'dallas', 'damaged', 'damn', 'date', 'daughter', 'day', 'days', 'dc', 'dca', 'dead', 'deal', 'dealing', 'definitely', 'delay', 'delayed', 'delaying', 'delays', 'deliver', 'delivered', 'delivery', 'delta', 'den', 'denied', 'denver', 'depart', 'departing', 'department', 'departure', 'dept', 'deserves', 'desk', 'despite', 'destination', 'destinationdragons', 'details', 'dfw', 'dfwairport', 'dia', 'didnt', 'diego', 'diff', 'difference', 'different', 'difficult', 'direct', 'directly', 'dirty', 'disappointed', 'disappointing', 'disaster', 'disconnected', 'disgusting', 'dividend', 'dm', 'dmd', 'doesnt', 'dog', 'dollars', 'domestic', 'done', 'dont', 'door', 'doors', 'double', 'drink', 'drinks', 'drive', 'driving', 'drop', 'dropped', 'drove', 'due', 'dulles', 'earlier', 'early', 'easily', 'easy', 'eat', 'economy', 'effort', 'either', 'else', 'email', 'emailed', 'emails', 'embarrassing', 'emergency', 'employee', 'employees', 'empty', 'end', 'ended', 'engine', 'enjoy', 'enough', 'enter', 'entertainment', 'entire', 'epicfail', 'equipment', 'error', 'errors', 'especially', 'etc', 'even', 'evening', 'eventually', 'ever', 'every', 'everyone', 'everything', 'ewr', 'exact', 'exactly', 'example', 'excellent', 'except', 'excited', 'excuse', 'exit', 'expect', 'expected', 'expensive', 'experience', 'experienced', 'experiences', 'expired', 'explain', 'explanation', 'extra', 'extremely', 'fa', 'faa', 'face', 'fact', 'fail', 'failed', 'failure', 'fair', 'false', 'family', 'fan', 'fantastic', 'far', 'fare', 'fares', 'fast', 'faster', 'fault', 'favorite', 'feb', 'fee', 'feedback', 'feel', 'feeling', 'feels', 'fees', 'feet', 'felt', 'fight', 'figure', 'figured', 'file', 'filed', 'fill', 'filled', 'final', 'finally', 'find', 'finding', 'fine', 'fingers', 'finish', 'first', 'fit', 'five', 'fix', 'fixed', 'fl', 'fleek', 'fleets', 'flew', 'flight', 'flightation', 'flightations', 'flightd', 'flighted', 'flighting', 'flightlation', 'flightlations', 'flightled', 'flightling', 'flightr', 'flights', 'fll', 'floor', 'florida', 'flown', 'flt', 'flts', 'fly', 'flyer', 'flyers', 'flyfi', 'flying', 'folks', 'follow', 'followed', 'following', 'food', 'forced', 'forever', 'forgot', 'form', 'fortunemagazine', 'forward', 'found', 'four', 'free', 'freezing', 'frequent', 'friday', 'friend', 'friendly', 'friends', 'frm', 'front', 'frozen', 'frustrated', 'frustrating', 'frustration', 'fuck', 'fucking', 'fuel', 'full', 'fun', 'funds', 'funeral', 'funny', 'future', 'fyi', 'game', 'gate', 'gates', 'gave', 'gear', 'get', 'gets', 'getting', 'give', 'given', 'gives', 'giving', 'glad', 'global', 'go', 'god', 'goes', 'going', 'gold', 'gone', 'gonna', 'good', 'got', 'gotta', 'gotten', 'great', 'ground', 'group', 'gt', 'guess', 'guy', 'guys', 'haha', 'half', 'hand', 'handle', 'handled', 'handling', 'hands', 'hang', 'hanging', 'hangs', 'happen', 'happened', 'happening', 'happens', 'happy', 'hard', 'hasnt', 'hate', 'havent', 'head', 'headed', 'heading', 'hear', 'heard', 'held', 'hell', 'hello', 'help', 'helped', 'helpful', 'helping', 'hes', 'hey', 'hi', 'high', 'hire', 'hold', 'holding', 'home', 'honest', 'honeymoon', 'honor', 'hope', 'hopefully', 'hoping', 'horrible', 'hostage', 'hot', 'hotel', 'hotels', 'hour', 'hours', 'houston', 'however', 'hr', 'hrs', 'huge', 'human', 'hundreds', 'hung', 'husband', 'iad', 'iah', 'ice', 'id', 'idea', 'ill', 'im', 'imagine', 'imaginedragons', 'immediately', 'important', 'impossible', 'impressed', 'improve', 'inbound', 'incompetence', 'incompetent', 'inconvenience', 'inconvenient', 'incredible', 'incredibly', 'inflight', 'info', 'information', 'informed', 'insane', 'inside', 'instead', 'international', 'internet', 'intl', 'isnt', 'issue', 'issued', 'issues', 'it', 'item', 'items', 'itinerary', 'ive', 'jan', 'jb', 'jet', 'jetblue', 'jetway', 'jfk', 'job', 'joke', 'keep', 'keeping', 'keeps', 'kept', 'kidding', 'kids', 'killing', 'kind', 'knew', 'know', 'knowing', 'known', 'knows', 'kudos', 'la', 'lack', 'lady', 'lame', 'land', 'landed', 'landing', 'laptop', 'las', 'last', 'late', 'lax', 'layover', 'learn', 'least', 'leave', 'leaves', 'leaving', 'left', 'leg', 'legroom', 'less', 'let', 'lets', 'letter', 'letting', 'level', 'lga', 'lie', 'lied', 'lies', 'life', 'like', 'likely', 'line', 'lines', 'link', 'list', 'listening', 'literally', 'little', 'live', 'll', 'load', 'loaded', 'located', 'logan', 'lol', 'london', 'long', 'longer', 'look', 'looking', 'looks', 'lose', 'losing', 'lost', 'lot', 'lots', 'lounge', 'love', 'loved', 'lovely', 'loyal', 'lt3', 'luck', 'luggage', 'luv', 'mad', 'made', 'mail', 'main', 'maintenance', 'major', 'make', 'makes', 'making', 'man', 'manage', 'management', 'manager', 'many', 'match', 'matter', 'may', 'maybe', 'mco', 'meal', 'mean', 'means', 'mechanical', 'mechanics', 'media', 'meeting', 'member', 'members', 'mention', 'merge', 'merger', 'mess', 'message', 'messed', 'met', 'mexico', 'mia', 'miami', 'middle', 'midnight', 'might', 'mileage', 'mileageplus', 'miles', 'min', 'mind', 'mine', 'minor', 'mins', 'mint', 'minute', 'minutes', 'miserable', 'miss', 'missed', 'missing', 'mistake', 'mobile', 'mom', 'monday', 'money', 'month', 'months', 'morning', 'mother', 'move', 'moved', 'moving', 'msg', 'much', 'multiple', 'music', 'must', 'name', 'nashville', 'nasty', 'nc', 'nearly', 'need', 'needed', 'needs', 'never', 'neveragain', 'new', 'newark', 'news', 'next', 'nice', 'night', 'nightmare', 'nobody', 'non', 'none', 'nonstop', 'nope', 'normal', 'note', 'nothappy', 'nothing', 'notice', 'notification', 'notified', 'number', 'numbers', 'ny', 'nyc', 'obviously', 'offer', 'offered', 'offering', 'office', 'officially', 'oh', 'ohare', 'ok', 'okay', 'old', 'omg', 'onboard', 'one', 'ones', 'online', 'onto', 'open', 'opportunity', 'option', 'options', 'ord', 'order', 'original', 'originally', 'orlando', 'oscars', 'others', 'otherwise', 'outside', 'outstanding', 'overbooked', 'overhead', 'overnight', 'page', 'paid', 'paper', 'part', 'party', 'pass', 'passbook', 'passenger', 'passengers', 'passes', 'past', 'pathetic', 'patience', 'patient', 'pax', 'pay', 'paying', 'pbi', 'people', 'per', 'perfect', 'perhaps', 'person', 'personal', 'philadelphia', 'philly', 'phl', 'phlairport', 'phoenix', 'phone', 'phones', 'phx', 'pick', 'picked', 'pilot', 'pilots', 'pissed', 'pit', 'place', 'plan', 'plane', 'planes', 'planned', 'plans', 'platinum', 'play', 'pleasant', 'please', 'plenty', 'pls', 'plus', 'plz', 'pm', 'point', 'points', 'policies', 'policy', 'poor', 'poorly', 'poorservice', 'possible', 'possibly', 'post', 'power', 'ppl', 'pr', 'preferred', 'premier', 'premium', 'prepared', 'pretty', 'previous', 'price', 'prices', 'print', 'prior', 'priority', 'probably', 'problem', 'problems', 'process', 'professional', 'program', 'promise', 'promised', 'prompt', 'properly', 'provide', 'provided', 'providing', 'public', 'pull', 'purchase', 'purchased', 'push', 'put', 'quality', 'question', 'questions', 'queue', 'quick', 'quickly', 'raise', 'ran', 'rate', 'rather', 'rdu', 'reach', 'read', 'ready', 'real', 'realize', 'really', 'reason', 'reasons', 'rebook', 'rebooked', 'receipt', 'receive', 'received', 'record', 'reflight', 'refund', 'refunded', 'refuse', 'refused', 'regarding', 'reimbursed', 'reimbursement', 'relate', 'relations', 'remember', 'rental', 'rep', 'reply', 'report', 'representative', 'reps', 'request', 'requested', 'rerouted', 'res', 'reschedule', 'rescheduled', 'rescheduling', 'reservation', 'reservations', 'resolution', 'resolve', 'resolved', 'respect', 'respond', 'responded', 'responding', 'response', 'rest', 'return', 'returned', 'reward', 'ride', 'ridiculous', 'right', 'ripoff', 'rock', 'rocks', 'room', 'rooms', 'round', 'route', 'routes', 'row', 'rt', 'rude', 'ruined', 'ruining', 'rules', 'run', 'running', 'runway', 'sad', 'safe', 'safely', 'safety', 'said', 'san', 'sat', 'saturday', 'save', 'saw', 'say', 'saying', 'says', 'schedule', 'scheduled', 'screen', 'screw', 'screwed', 'sea', 'seat', 'seating', 'seats', 'seattle', 'second', 'security', 'see', 'seem', 'seems', 'seen', 'select', 'sell', 'send', 'sending', 'sense', 'sent', 'serious', 'seriously', 'service', 'services', 'set', 'several', 'sf', 'sfo', 'shame', 'shameful', 'share', 'sharing', 'shes', 'shit', 'shitty', 'short', 'shot', 'shouldnt', 'show', 'showed', 'showing', 'shows', 'sick', 'sign', 'simple', 'simply', 'since', 'single', 'sister', 'sit', 'site', 'sitting', 'situation', 'six', 'sju', 'skies', 'slc', 'sleep', 'sleeping', 'slow', 'small', 'smh', 'snacks', 'snow', 'social', 'sold', 'solution', 'somebody', 'somehow', 'someone', 'something', 'somewhere', 'son', 'soon', 'sorry', 'sort', 'sounds', 'south', 'southwest', 'southwestair', 'space', 'speak', 'speaking', 'special', 'spend', 'spending', 'spent', 'spoke', 'st', 'staff', 'standby', 'standing', 'start', 'started', 'starting', 'states', 'status', 'stay', 'step', 'stewardess', 'still', 'stop', 'stopped', 'storm', 'story', 'straight', 'stranded', 'stuck', 'stuff', 'submitted', 'suck', 'sucks', 'suitcase', 'sunday', 'super', 'supervisor', 'support', 'suppose', 'supposed', 'sure', 'surprise', 'surprised', 'svc', 'sw', 'swa', 'sweet', 'switch', 'switched', 'system', 'systems', 'tag', 'take', 'taken', 'takeoff', 'takes', 'taking', 'talk', 'talked', 'talking', 'tampa', 'tarmac', 'taxi', 'team', 'tech', 'tell', 'telling', 'tells', 'terminal', 'terrible', 'texas', 'text', 'thank', 'thanks', 'thankyou', 'thats', 'theres', 'theyre', 'thing', 'things', 'think', 'thinking', 'third', 'thnx', 'tho', 'though', 'thought', 'three', 'thru', 'thursday', 'thx', 'ticket', 'tickets', 'til', 'till', 'time', 'timely', 'times', 'tired', 'tix', 'tmrw', 'today', 'todays', 'together', 'told', 'tomorrow', 'tonight', 'took', 'top', 'total', 'totally', 'touch', 'tough', 'tracking', 'traffic', 'train', 'training', 'transfer', 'transferred', 'travel', 'traveled', 'traveler', 'travelers', 'traveling', 'treat', 'treated', 'treatment', 'tried', 'trip', 'trips', 'trouble', 'true', 'trueblue', 'truly', 'trust', 'try', 'trying', 'tsa', 'tuesday', 'turn', 'turned', 'turns', 'tv', 'tweet', 'tweeting', 'tweets', 'twice', 'twitter', 'two', 'type', 'ua', 'ual', 'ugh', 'uk', 'unable', 'unacceptable', 'unbelievable', 'understand', 'understood', 'unfortunately', 'unfriendlyskies', 'unhappy', 'unhelpful', 'united', 'unitedairlines', 'unless', 'unprofessional', 'unreal', 'update', 'updated', 'updates', 'upgrade', 'upgraded', 'upgrades', 'upset', 'ur', 'us', 'usair', 'usairways', 'usairwaysfail', 'use', 'used', 'useless', 'using', 'usual', 'usually', 'vacation', 've', 'vegas', 'via', 'video', 'view', 'virgin', 'virginamerica', 'volume', 'voucher', 'vouchers', 'wait', 'waited', 'waiting', 'wanna', 'want', 'wanted', 'warm', 'wasnt', 'waste', 'wasted', 'wasting', 'watch', 'watched', 'watching', 'water', 'way', 'ways', 'weather', 'web', 'website', 'wed', 'wedding', 'wednesday', 'week', 'weekend', 'weeks', 'welcome', 'well', 'went', 'werent', 'wet', 'weve', 'whats', 'whole', 'whose', 'wife', 'wifi', 'willing', 'win', 'window', 'winter', 'wish', 'within', 'without', 'wo', 'woman', 'wonder', 'wonderful', 'wont', 'word', 'words', 'work', 'worked', 'working', 'works', 'world', 'worries', 'worry', 'worse', 'worst', 'worth', 'would', 'wouldnt', 'wow', 'wrong', 'wtf', 'yall', 'yeah', 'year', 'years', 'yep', 'yes', 'yesterday', 'yet', 'youd', 'youll', 'youre', 'youve', 'yr', 'yyz', 'zero']\n"
          ]
        },
        {
          "output_type": "stream",
          "name": "stderr",
          "text": [
            "/usr/local/lib/python3.7/dist-packages/sklearn/utils/deprecation.py:87: FutureWarning: Function get_feature_names is deprecated; get_feature_names is deprecated in 1.0 and will be removed in 1.2. Please use get_feature_names_out instead.\n",
            "  warnings.warn(msg, category=FutureWarning)\n"
          ]
        }
      ]
    },
    {
      "cell_type": "code",
      "source": [
        "X.toarray().shape"
      ],
      "metadata": {
        "colab": {
          "base_uri": "https://localhost:8080/"
        },
        "id": "EWSAIFqbUISv",
        "outputId": "045139ac-ef6e-42ac-b8cb-7d4a481555d0"
      },
      "execution_count": 26,
      "outputs": [
        {
          "output_type": "execute_result",
          "data": {
            "text/plain": [
              "(11541, 1504)"
            ]
          },
          "metadata": {},
          "execution_count": 26
        }
      ]
    },
    {
      "cell_type": "code",
      "source": [
        "from sklearn.model_selection import train_test_split\n",
        "x_train,x_test,y_train,y_test = train_test_split(df['tokenize'],df.airline_sentiment,random_state=0,test_size=.2)"
      ],
      "metadata": {
        "id": "q_QSAVogULqE"
      },
      "execution_count": 27,
      "outputs": []
    },
    {
      "cell_type": "code",
      "source": [
        "x_train.head()"
      ],
      "metadata": {
        "colab": {
          "base_uri": "https://localhost:8080/"
        },
        "id": "EpggUqGKUN8v",
        "outputId": "f65d4353-d96f-4785-a245-a5d3fec12f81"
      },
      "execution_count": 28,
      "outputs": [
        {
          "output_type": "execute_result",
          "data": {
            "text/plain": [
              "10070    USAirways BritishAirways three hour flight delay phone 45min counting                                              \n",
              "13072    AmericanAir please something boarding DCA 35X Many delays buses planes tarmac despite empty gates Disorganized mess\n",
              "1761     united left bag Houston last night freezing cold Memphis idea see tomorrow                                         \n",
              "3085     united Thank wonderful global first class flight 777 FRA Great service cont httptco46n9kDcsxU                      \n",
              "7246     JetBlue sloooooow today                                                                                            \n",
              "Name: tokenize, dtype: object"
            ]
          },
          "metadata": {},
          "execution_count": 28
        }
      ]
    },
    {
      "cell_type": "code",
      "source": [
        "vectorized_train = vectorizer.transform(x_train)\n",
        "vectorized_test = vectorizer.transform(x_test)"
      ],
      "metadata": {
        "id": "RMA8EksuUZGg"
      },
      "execution_count": 29,
      "outputs": []
    },
    {
      "cell_type": "code",
      "source": [
        "vectorized_train"
      ],
      "metadata": {
        "colab": {
          "base_uri": "https://localhost:8080/"
        },
        "id": "Nz0k8XkKUcKu",
        "outputId": "decc437a-3f92-420c-b932-e677b217fa7e"
      },
      "execution_count": 30,
      "outputs": [
        {
          "output_type": "execute_result",
          "data": {
            "text/plain": [
              "<9232x1504 sparse matrix of type '<class 'numpy.float64'>'\n",
              "\twith 78691 stored elements in Compressed Sparse Row format>"
            ]
          },
          "metadata": {},
          "execution_count": 30
        }
      ]
    },
    {
      "cell_type": "code",
      "source": [
        "vectorized_train.toarray()[5000]"
      ],
      "metadata": {
        "colab": {
          "base_uri": "https://localhost:8080/"
        },
        "id": "nFRgMXn8Ue__",
        "outputId": "cdcedb84-663a-418d-d4f1-f0569e09dd8e"
      },
      "execution_count": 31,
      "outputs": [
        {
          "output_type": "execute_result",
          "data": {
            "text/plain": [
              "array([0., 0., 0., ..., 0., 0., 0.])"
            ]
          },
          "metadata": {},
          "execution_count": 31
        }
      ]
    },
    {
      "cell_type": "code",
      "source": [
        "train_array =vectorized_train.toarray()\n",
        "test_array = vectorized_test.toarray()"
      ],
      "metadata": {
        "id": "rRM6X_lvUixV"
      },
      "execution_count": 32,
      "outputs": []
    },
    {
      "cell_type": "markdown",
      "source": [
        "## Once you have built the SVM classifier, evaluate this model across various metrics. Also plot the ROC curve and Precision-Recall curve. Report the areas under these two curves along with other metrics."
      ],
      "metadata": {
        "id": "hW_UQVPrrQRG"
      }
    },
    {
      "cell_type": "code",
      "source": [
        "from sklearn.svm import SVC\n",
        "sentiment_detector = SVC(kernel='linear')"
      ],
      "metadata": {
        "id": "4svBMqUDUlP1"
      },
      "execution_count": 33,
      "outputs": []
    },
    {
      "cell_type": "code",
      "source": [],
      "metadata": {
        "id": "ighnYS4AUoUF"
      },
      "execution_count": 33,
      "outputs": []
    },
    {
      "cell_type": "code",
      "source": [
        "sentiment_detector.fit(train_array,y_train)"
      ],
      "metadata": {
        "colab": {
          "base_uri": "https://localhost:8080/"
        },
        "id": "JSYsyFqnd398",
        "outputId": "aa1d90b4-d1e3-43d6-9f94-034ef0d77d53"
      },
      "execution_count": 34,
      "outputs": [
        {
          "output_type": "execute_result",
          "data": {
            "text/plain": [
              "SVC(kernel='linear')"
            ]
          },
          "metadata": {},
          "execution_count": 34
        }
      ]
    },
    {
      "cell_type": "code",
      "source": [
        "train_preds = sentiment_detector.predict(train_array)\n",
        "test_preds = sentiment_detector.predict(test_array)"
      ],
      "metadata": {
        "id": "NQGJA6ukd3Aa"
      },
      "execution_count": 35,
      "outputs": []
    },
    {
      "cell_type": "code",
      "source": [
        "from sklearn.metrics import confusion_matrix,classification_report\n",
        "from sklearn.metrics import roc_auc_score,roc_curve,precision_recall_curve"
      ],
      "metadata": {
        "id": "gx1_fq5DeRb8"
      },
      "execution_count": 36,
      "outputs": []
    },
    {
      "cell_type": "code",
      "source": [
        "print(confusion_matrix(y_train, train_preds))\n",
        "print('\\n')\n",
        "print(confusion_matrix(y_test, test_preds))"
      ],
      "metadata": {
        "colab": {
          "base_uri": "https://localhost:8080/"
        },
        "id": "LS3zbFYReZF1",
        "outputId": "1447979b-fdb3-4da4-834d-1d212728c63e"
      },
      "execution_count": 37,
      "outputs": [
        {
          "output_type": "stream",
          "name": "stdout",
          "text": [
            "[[7215  124]\n",
            " [ 413 1480]]\n",
            "\n",
            "\n",
            "[[1789   50]\n",
            " [ 131  339]]\n"
          ]
        }
      ]
    },
    {
      "cell_type": "code",
      "source": [
        "print(classification_report(y_train,train_preds))\n",
        "print(classification_report(y_test,test_preds))"
      ],
      "metadata": {
        "colab": {
          "base_uri": "https://localhost:8080/"
        },
        "id": "bNqSP0paextL",
        "outputId": "db2a616c-7a54-49e8-ce6d-4a082a7ac320"
      },
      "execution_count": 38,
      "outputs": [
        {
          "output_type": "stream",
          "name": "stdout",
          "text": [
            "              precision    recall  f1-score   support\n",
            "\n",
            "           0       0.95      0.98      0.96      7339\n",
            "           1       0.92      0.78      0.85      1893\n",
            "\n",
            "    accuracy                           0.94      9232\n",
            "   macro avg       0.93      0.88      0.91      9232\n",
            "weighted avg       0.94      0.94      0.94      9232\n",
            "\n",
            "              precision    recall  f1-score   support\n",
            "\n",
            "           0       0.93      0.97      0.95      1839\n",
            "           1       0.87      0.72      0.79       470\n",
            "\n",
            "    accuracy                           0.92      2309\n",
            "   macro avg       0.90      0.85      0.87      2309\n",
            "weighted avg       0.92      0.92      0.92      2309\n",
            "\n"
          ]
        }
      ]
    },
    {
      "cell_type": "code",
      "source": [
        "# plotting not done"
      ],
      "metadata": {
        "id": "R85sTpXNe3fH"
      },
      "execution_count": 39,
      "outputs": []
    },
    {
      "cell_type": "code",
      "source": [],
      "metadata": {
        "id": "EEu9nmf4remK"
      },
      "execution_count": 39,
      "outputs": []
    },
    {
      "cell_type": "markdown",
      "source": [
        "## Perform GridSearch cross validation for various values of  C  and  gamma . These will be the hyperparameters which you would play around with."
      ],
      "metadata": {
        "id": "kMAZ-sC7rmw1"
      }
    },
    {
      "cell_type": "code",
      "source": [
        "from sklearn.svm import SVC\n",
        "sentiment_detector = SVC()"
      ],
      "metadata": {
        "id": "QP61fH_SroW4"
      },
      "execution_count": 40,
      "outputs": []
    },
    {
      "cell_type": "code",
      "source": [
        "from sklearn.model_selection import GridSearchCV\n",
        "\n",
        "pram_grid = { 'C': np.linspace(1e-9,1,3), 'gamma': np.linspace(1e-9,1,3)}\n",
        "\n",
        "grid_model = GridSearchCV(sentiment_detector,param_grid=pram_grid,verbose=True,cv=3)"
      ],
      "metadata": {
        "id": "ch_b_w54rwuN"
      },
      "execution_count": 41,
      "outputs": []
    },
    {
      "cell_type": "code",
      "source": [
        "grid_model.fit(train_array,y_train)"
      ],
      "metadata": {
        "colab": {
          "base_uri": "https://localhost:8080/"
        },
        "id": "Wms3wgqSr26d",
        "outputId": "9e451b7f-f9b7-475e-e719-2cb93a193739"
      },
      "execution_count": 42,
      "outputs": [
        {
          "output_type": "stream",
          "name": "stdout",
          "text": [
            "Fitting 3 folds for each of 9 candidates, totalling 27 fits\n"
          ]
        },
        {
          "output_type": "execute_result",
          "data": {
            "text/plain": [
              "GridSearchCV(cv=3, estimator=SVC(),\n",
              "             param_grid={'C': array([1.00000000e-09, 5.00000001e-01, 1.00000000e+00]),\n",
              "                         'gamma': array([1.00000000e-09, 5.00000001e-01, 1.00000000e+00])},\n",
              "             verbose=True)"
            ]
          },
          "metadata": {},
          "execution_count": 42
        }
      ]
    },
    {
      "cell_type": "code",
      "source": [
        "grid_model.best_params_"
      ],
      "metadata": {
        "colab": {
          "base_uri": "https://localhost:8080/"
        },
        "id": "OZ5w-9BewlZ9",
        "outputId": "15172d35-67da-44f5-f9c5-2bfe833378e9"
      },
      "execution_count": 43,
      "outputs": [
        {
          "output_type": "execute_result",
          "data": {
            "text/plain": [
              "{'C': 1.0, 'gamma': 1.0}"
            ]
          },
          "metadata": {},
          "execution_count": 43
        }
      ]
    },
    {
      "cell_type": "markdown",
      "source": [
        "## Explain your observations and the underlying reasons for these."
      ],
      "metadata": {
        "id": "3uAbGDxPs8Bs"
      }
    },
    {
      "cell_type": "code",
      "source": [
        "# after applying GridSearch I observed that the model performence is best at C = 1 and gamma = 1"
      ],
      "metadata": {
        "id": "-L5aPNxps9g1"
      },
      "execution_count": 44,
      "outputs": []
    },
    {
      "cell_type": "code",
      "source": [],
      "metadata": {
        "id": "8s-HR86Btj8i"
      },
      "execution_count": 44,
      "outputs": []
    },
    {
      "cell_type": "markdown",
      "source": [
        "## Try checking if tfidfvectorizer helps you gain lift in model's performance."
      ],
      "metadata": {
        "id": "aQOS9DZDw0o1"
      }
    },
    {
      "cell_type": "code",
      "source": [],
      "metadata": {
        "id": "ncirTGEBw2az"
      },
      "execution_count": 44,
      "outputs": []
    }
  ]
}